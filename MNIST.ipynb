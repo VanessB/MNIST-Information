{
 "cells": [
  {
   "cell_type": "code",
   "execution_count": 1,
   "metadata": {
    "colab": {
     "base_uri": "https://localhost:8080/",
     "height": 34
    },
    "colab_type": "code",
    "id": "3hnJFp2UClXb",
    "outputId": "089e5741-4a37-4133-d62a-cc29748e212f"
   },
   "outputs": [
    {
     "name": "stdout",
     "output_type": "stream",
     "text": [
      "2.3.0\n"
     ]
    }
   ],
   "source": [
    "import tensorflow.compat.v2 as tf\n",
    "import tensorflow_datasets as tfds\n",
    "\n",
    "tfds.disable_progress_bar()\n",
    "tf.enable_v2_behavior()\n",
    "\n",
    "print(tf.__version__)"
   ]
  },
  {
   "cell_type": "code",
   "execution_count": 2,
   "metadata": {},
   "outputs": [],
   "source": [
    "mnist_shape = (28, 28, 1)"
   ]
  },
  {
   "cell_type": "markdown",
   "metadata": {
    "colab_type": "text",
    "id": "tZ2uHSGPFUr5"
   },
   "source": [
    "# Классификатор"
   ]
  },
  {
   "cell_type": "markdown",
   "metadata": {
    "colab_type": "text",
    "id": "Yz2-M8-vEh0s"
   },
   "source": [
    "## Получение датасета MNIST и создание тренировочных и тестовых выборок"
   ]
  },
  {
   "cell_type": "code",
   "execution_count": 3,
   "metadata": {
    "colab": {},
    "colab_type": "code",
    "id": "wFNXe942EqMH"
   },
   "outputs": [],
   "source": [
    "(ds_train, ds_test), ds_info = tfds.load(\n",
    "    'mnist',\n",
    "    split=['train', 'test'],\n",
    "    shuffle_files=True,\n",
    "    as_supervised=True,\n",
    "    with_info=True,\n",
    ")"
   ]
  },
  {
   "cell_type": "markdown",
   "metadata": {
    "colab_type": "text",
    "id": "AXhv-YVnE174"
   },
   "source": [
    "### Нормализация изображения ({0, ..., 255} -> [0;1])"
   ]
  },
  {
   "cell_type": "code",
   "execution_count": 4,
   "metadata": {
    "colab": {},
    "colab_type": "code",
    "id": "75r-hyKgEr5Q"
   },
   "outputs": [],
   "source": [
    "def normalize_img(image, label):\n",
    "  \"\"\"Normalizes images: `uint8` -> `float32`.\"\"\"\n",
    "  return tf.cast(image, tf.float32) / 255.0, label"
   ]
  },
  {
   "cell_type": "markdown",
   "metadata": {
    "colab_type": "text",
    "id": "LW-8orFJFIai"
   },
   "source": [
    "### Тренировочный набор"
   ]
  },
  {
   "cell_type": "code",
   "execution_count": 5,
   "metadata": {
    "colab": {},
    "colab_type": "code",
    "id": "mKP6e2tyFAK2"
   },
   "outputs": [],
   "source": [
    "ds_train = ds_train.map(\n",
    "    normalize_img, num_parallel_calls=tf.data.experimental.AUTOTUNE)\n",
    "ds_train = ds_train.cache()\n",
    "ds_train = ds_train.shuffle(ds_info.splits['train'].num_examples)\n",
    "ds_train = ds_train.batch(128)\n",
    "ds_train = ds_train.prefetch(tf.data.experimental.AUTOTUNE)"
   ]
  },
  {
   "cell_type": "markdown",
   "metadata": {
    "colab_type": "text",
    "id": "YKAwG2LPFNWN"
   },
   "source": [
    "### Тестовый набор"
   ]
  },
  {
   "cell_type": "code",
   "execution_count": 6,
   "metadata": {
    "colab": {},
    "colab_type": "code",
    "id": "diD96iq7FLvC"
   },
   "outputs": [],
   "source": [
    "ds_test = ds_test.map(\n",
    "    normalize_img, num_parallel_calls=tf.data.experimental.AUTOTUNE)\n",
    "ds_test = ds_test.batch(128)\n",
    "ds_test = ds_test.cache()\n",
    "ds_test = ds_test.prefetch(tf.data.experimental.AUTOTUNE)"
   ]
  },
  {
   "cell_type": "markdown",
   "metadata": {},
   "source": [
    "## Модель"
   ]
  },
  {
   "cell_type": "code",
   "execution_count": 7,
   "metadata": {
    "colab": {},
    "colab_type": "code",
    "id": "simwtqfVFSb4"
   },
   "outputs": [],
   "source": [
    "def define_classifier(shape_input):\n",
    "    # Инициализация весов.\n",
    "    init = tf.keras.initializers.RandomNormal(stddev = 0.02)\n",
    "\n",
    "    # Входные данные генератора / выборки.\n",
    "    input_layer = tf.keras.layers.Input(shape_input)\n",
    "    next_layer = input_layer\n",
    "\n",
    "    # 1 блок слоёв.\n",
    "    next_layer = tf.keras.layers.GaussianNoise(0.1)(input_layer)\n",
    "    next_layer = tf.keras.layers.Conv2D(filters = 4, kernel_size = (3, 3), strides = (1, 1), padding = 'same', kernel_initializer = init)(next_layer)\n",
    "    next_layer = tf.keras.layers.BatchNormalization()(next_layer)\n",
    "    next_layer = tf.keras.layers.LeakyReLU(alpha=0.2)(next_layer)\n",
    "    #next_layer = tf.keras.layers.Activation(tf.keras.activations.tanh)(next_layer)\n",
    "    #next_layer = tf.keras.layers.Dropout(0.2)(next_layer)\n",
    "    #next_layer = tf.keras.layers.SpatialDropout2D(0.1)(next_layer)\n",
    "    next_layer = tf.keras.layers.MaxPooling2D(pool_size = (2, 2), padding = 'same')(next_layer)\n",
    "    #next_layer = tf.keras.layers.GaussianNoise(0.1)(next_layer)\n",
    "\n",
    "    output_layer_1 = tf.keras.layers.Activation(tf.keras.activations.sigmoid)(next_layer)\n",
    "\n",
    "    # 2 блок слоёв.\n",
    "    #next_layer = tf.keras.layers.GaussianNoise(0.1)(input_layer)\n",
    "    next_layer = tf.keras.layers.Conv2D(filters = 8, kernel_size = (3, 3), strides = (1, 1), padding = 'same', kernel_initializer = init)(next_layer)\n",
    "    next_layer = tf.keras.layers.BatchNormalization()(next_layer)\n",
    "    next_layer = tf.keras.layers.LeakyReLU(alpha=0.2)(next_layer)\n",
    "    #next_layer = tf.keras.layers.Activation(tf.keras.activations.tanh)(next_layer)\n",
    "    next_layer = tf.keras.layers.Dropout(0.1)(next_layer)\n",
    "    #next_layer = tf.keras.layers.SpatialDropout2D(0.05)(next_layer)\n",
    "    next_layer = tf.keras.layers.MaxPooling2D(pool_size = (2, 2), padding = 'same')(next_layer)\n",
    "\n",
    "    output_layer_2 = tf.keras.layers.Activation(tf.keras.activations.sigmoid)(next_layer)\n",
    "\n",
    "    # 3 блок слоёв.\n",
    "    #next_layer = tf.keras.layers.GaussianNoise(0.1)(input_layer)\n",
    "    next_layer = tf.keras.layers.Conv2D(filters = 16, kernel_size = (3, 3), strides = (1, 1), padding = 'same', kernel_initializer = init)(next_layer)\n",
    "    next_layer = tf.keras.layers.BatchNormalization()(next_layer)\n",
    "    next_layer = tf.keras.layers.LeakyReLU(alpha=0.2)(next_layer)\n",
    "    #next_layer = tf.keras.layers.Activation(tf.keras.activations.tanh)(next_layer)\n",
    "    next_layer = tf.keras.layers.Dropout(0.2)(next_layer)\n",
    "    #next_layer = tf.keras.layers.SpatialDropout2D(0.2)(next_layer)\n",
    "    next_layer = tf.keras.layers.MaxPooling2D(pool_size = (2, 2), padding = 'same')(next_layer)\n",
    "\n",
    "    output_layer_3 = tf.keras.layers.Activation(tf.keras.activations.sigmoid)(next_layer)\n",
    "\n",
    "    # Вывод.\n",
    "    next_layer = tf.keras.layers.Flatten()(next_layer)\n",
    "    next_layer = tf.keras.layers.Dense(10)(next_layer)\n",
    "    output_layer = tf.keras.layers.Activation('softmax')(next_layer)\n",
    "\n",
    "    # Модель.\n",
    "    model = tf.keras.models.Model(input_layer, output_layer)\n",
    "    debug_model = tf.keras.models.Model([input_layer], [output_layer_1, output_layer_2, output_layer_3])\n",
    "\n",
    "    # Компиляция модели.\n",
    "    opt = tf.keras.optimizers.Adam(lr = 0.001)\n",
    "    model.compile(loss = 'sparse_categorical_crossentropy', optimizer = opt, loss_weights = [1.0], metrics=['accuracy'])\n",
    "    return model, debug_model"
   ]
  },
  {
   "cell_type": "code",
   "execution_count": 8,
   "metadata": {
    "colab": {
     "base_uri": "https://localhost:8080/",
     "height": 1000
    },
    "colab_type": "code",
    "id": "e3EIdH_MJCQA",
    "outputId": "b7836641-b578-4939-b95b-a669f60e57f9"
   },
   "outputs": [
    {
     "name": "stdout",
     "output_type": "stream",
     "text": [
      "Model: \"functional_1\"\n",
      "_________________________________________________________________\n",
      "Layer (type)                 Output Shape              Param #   \n",
      "=================================================================\n",
      "input_1 (InputLayer)         [(None, 28, 28, 1)]       0         \n",
      "_________________________________________________________________\n",
      "gaussian_noise (GaussianNois (None, 28, 28, 1)         0         \n",
      "_________________________________________________________________\n",
      "conv2d (Conv2D)              (None, 28, 28, 4)         40        \n",
      "_________________________________________________________________\n",
      "batch_normalization (BatchNo (None, 28, 28, 4)         16        \n",
      "_________________________________________________________________\n",
      "leaky_re_lu (LeakyReLU)      (None, 28, 28, 4)         0         \n",
      "_________________________________________________________________\n",
      "max_pooling2d (MaxPooling2D) (None, 14, 14, 4)         0         \n",
      "_________________________________________________________________\n",
      "conv2d_1 (Conv2D)            (None, 14, 14, 8)         296       \n",
      "_________________________________________________________________\n",
      "batch_normalization_1 (Batch (None, 14, 14, 8)         32        \n",
      "_________________________________________________________________\n",
      "leaky_re_lu_1 (LeakyReLU)    (None, 14, 14, 8)         0         \n",
      "_________________________________________________________________\n",
      "dropout (Dropout)            (None, 14, 14, 8)         0         \n",
      "_________________________________________________________________\n",
      "max_pooling2d_1 (MaxPooling2 (None, 7, 7, 8)           0         \n",
      "_________________________________________________________________\n",
      "conv2d_2 (Conv2D)            (None, 7, 7, 16)          1168      \n",
      "_________________________________________________________________\n",
      "batch_normalization_2 (Batch (None, 7, 7, 16)          64        \n",
      "_________________________________________________________________\n",
      "leaky_re_lu_2 (LeakyReLU)    (None, 7, 7, 16)          0         \n",
      "_________________________________________________________________\n",
      "dropout_1 (Dropout)          (None, 7, 7, 16)          0         \n",
      "_________________________________________________________________\n",
      "max_pooling2d_2 (MaxPooling2 (None, 4, 4, 16)          0         \n",
      "_________________________________________________________________\n",
      "flatten (Flatten)            (None, 256)               0         \n",
      "_________________________________________________________________\n",
      "dense (Dense)                (None, 10)                2570      \n",
      "_________________________________________________________________\n",
      "activation_3 (Activation)    (None, 10)                0         \n",
      "=================================================================\n",
      "Total params: 4,186\n",
      "Trainable params: 4,130\n",
      "Non-trainable params: 56\n",
      "_________________________________________________________________\n"
     ]
    }
   ],
   "source": [
    "classifier, debug_classifier = define_classifier(mnist_shape)\n",
    "# Сводка по модели.\n",
    "classifier.summary()\n",
    "# Отрисовка модели.\n",
    "#tf.keras.utils.plot_model(classifier, show_shapes = True, show_layer_names = True)"
   ]
  },
  {
   "cell_type": "code",
   "execution_count": 9,
   "metadata": {
    "colab": {
     "base_uri": "https://localhost:8080/",
     "height": 243
    },
    "colab_type": "code",
    "id": "zGI4wbeaMH3H",
    "outputId": "778a590d-1b29-45ae-b28a-a8354df5dd5f"
   },
   "outputs": [
    {
     "name": "stdout",
     "output_type": "stream",
     "text": [
      "Epoch 1/6\n",
      "469/469 [==============================] - 9s 18ms/step - loss: 0.3914 - accuracy: 0.8845 - val_loss: 0.8778 - val_accuracy: 0.7447\n",
      "Epoch 2/6\n",
      "469/469 [==============================] - 8s 18ms/step - loss: 0.1251 - accuracy: 0.9620 - val_loss: 0.1026 - val_accuracy: 0.9692\n",
      "Epoch 3/6\n",
      "469/469 [==============================] - 8s 17ms/step - loss: 0.0970 - accuracy: 0.9694 - val_loss: 0.0605 - val_accuracy: 0.9820\n",
      "Epoch 4/6\n",
      "469/469 [==============================] - 8s 17ms/step - loss: 0.0862 - accuracy: 0.9728 - val_loss: 0.0693 - val_accuracy: 0.9785\n",
      "Epoch 5/6\n",
      "469/469 [==============================] - 8s 17ms/step - loss: 0.0800 - accuracy: 0.9751 - val_loss: 0.0554 - val_accuracy: 0.9832\n",
      "Epoch 6/6\n",
      "469/469 [==============================] - 8s 18ms/step - loss: 0.0712 - accuracy: 0.9771 - val_loss: 0.0485 - val_accuracy: 0.9863\n"
     ]
    },
    {
     "data": {
      "text/plain": [
       "<tensorflow.python.keras.callbacks.History at 0x7f34400c5250>"
      ]
     },
     "execution_count": 9,
     "metadata": {},
     "output_type": "execute_result"
    }
   ],
   "source": [
    "classifier.fit(\n",
    "    ds_train,\n",
    "    epochs=6,\n",
    "    validation_data=ds_test,\n",
    ")"
   ]
  },
  {
   "cell_type": "code",
   "execution_count": 10,
   "metadata": {},
   "outputs": [],
   "source": [
    "classifier.save('classifier.h5')\n",
    "debug_classifier.save('debug_classifier.h5')"
   ]
  },
  {
   "cell_type": "markdown",
   "metadata": {
    "colab_type": "text",
    "id": "vuFCuAwMTLbJ"
   },
   "source": [
    "### Визуальная проверка"
   ]
  },
  {
   "cell_type": "code",
   "execution_count": 11,
   "metadata": {
    "colab": {},
    "colab_type": "code",
    "id": "tmp5VGplSSL1"
   },
   "outputs": [],
   "source": [
    "def imshow_array(array):\n",
    "    plt.axis('off')\n",
    "    plt.imshow((255.0 * array).astype(np.uint8), cmap=plt.get_cmap(\"gray\"), vmin=0, vmax=255)"
   ]
  },
  {
   "cell_type": "code",
   "execution_count": 12,
   "metadata": {
    "colab": {},
    "colab_type": "code",
    "id": "lxesrZsITN5Z"
   },
   "outputs": [],
   "source": [
    "(ds_full, _) = tfds.load(\n",
    "    'mnist',\n",
    "    split=['train', 'test'],\n",
    "    shuffle_files=True,\n",
    "    as_supervised=True,\n",
    "    with_info=False,\n",
    ")"
   ]
  },
  {
   "cell_type": "code",
   "execution_count": 13,
   "metadata": {
    "colab": {},
    "colab_type": "code",
    "id": "b0qdbiqwTVml"
   },
   "outputs": [],
   "source": [
    "ds_full = ds_full.map(\n",
    "    normalize_img, num_parallel_calls=tf.data.experimental.AUTOTUNE)\n",
    "#ds_full = ds_full.batch(1)\n",
    "#ds_full = ds_full.cache()\n",
    "#ds_full = ds_full.prefetch(tf.data.experimental.AUTOTUNE)"
   ]
  },
  {
   "cell_type": "code",
   "execution_count": 14,
   "metadata": {
    "colab": {
     "base_uri": "https://localhost:8080/",
     "height": 1000
    },
    "colab_type": "code",
    "id": "bYR4VDG25sqp",
    "outputId": "5dca7a55-c6ba-488c-a4cb-5854aea6517a"
   },
   "outputs": [
    {
     "data": {
      "image/png": "[encoded data removed]",
      "text/plain": [
       "<Figure size 432x288 with 1 Axes>"
      ]
     },
     "metadata": {
      "needs_background": "light"
     },
     "output_type": "display_data"
    },
    {
     "name": "stdout",
     "output_type": "stream",
     "text": [
      "Label: 1\n",
      "[1.1360934e-03 9.7245640e-01 6.1955344e-04 6.6093387e-05 8.3257249e-03\n",
      " 6.0626877e-05 1.3324983e-02 4.3590258e-05 3.9095567e-03 5.7416026e-05]\n"
     ]
    },
    {
     "data": {
      "image/png": "[encoded data removed]",
      "text/plain": [
       "<Figure size 432x288 with 4 Axes>"
      ]
     },
     "metadata": {
      "needs_background": "light"
     },
     "output_type": "display_data"
    },
    {
     "data": {
      "image/png": "[encoded data removed]",
      "text/plain": [
       "<Figure size 432x288 with 8 Axes>"
      ]
     },
     "metadata": {
      "needs_background": "light"
     },
     "output_type": "display_data"
    },
    {
     "data": {
      "image/png": "[encoded data removed]",
      "text/plain": [
       "<Figure size 432x288 with 16 Axes>"
      ]
     },
     "metadata": {
      "needs_background": "light"
     },
     "output_type": "display_data"
    },
    {
     "data": {
      "image/png": "[encoded data removed]",
      "text/plain": [
       "<Figure size 432x288 with 1 Axes>"
      ]
     },
     "metadata": {
      "needs_background": "light"
     },
     "output_type": "display_data"
    },
    {
     "name": "stdout",
     "output_type": "stream",
     "text": [
      "Label: 4\n",
      "[1.0870459e-05 2.9857210e-03 2.1052829e-05 2.8176025e-06 9.9563110e-01\n",
      " 6.2220411e-06 1.2502821e-06 5.0404947e-04 1.8206477e-04 6.5475225e-04]\n"
     ]
    },
    {
     "data": {
      "image/png": "[encoded data removed]",
      "text/plain": [
       "<Figure size 432x288 with 4 Axes>"
      ]
     },
     "metadata": {
      "needs_background": "light"
     },
     "output_type": "display_data"
    },
    {
     "data": {
      "image/png": "[encoded data removed]",
      "text/plain": [
       "<Figure size 432x288 with 8 Axes>"
      ]
     },
     "metadata": {
      "needs_background": "light"
     },
     "output_type": "display_data"
    },
    {
     "data": {
      "image/png": "[encoded data removed]",
      "text/plain": [
       "<Figure size 432x288 with 16 Axes>"
      ]
     },
     "metadata": {
      "needs_background": "light"
     },
     "output_type": "display_data"
    },
    {
     "data": {
      "image/png": "[encoded data removed]",
      "text/plain": [
       "<Figure size 432x288 with 1 Axes>"
      ]
     },
     "metadata": {
      "needs_background": "light"
     },
     "output_type": "display_data"
    },
    {
     "name": "stdout",
     "output_type": "stream",
     "text": [
      "Label: 1\n",
      "[1.2296689e-04 9.9639004e-01 5.1476458e-05 8.5012493e-07 2.6440397e-03\n",
      " 1.7143100e-06 1.8709958e-05 7.2558905e-04 1.0962186e-05 3.3685857e-05]\n"
     ]
    },
    {
     "data": {
      "image/png": "[encoded data removed]",
      "text/plain": [
       "<Figure size 432x288 with 4 Axes>"
      ]
     },
     "metadata": {
      "needs_background": "light"
     },
     "output_type": "display_data"
    },
    {
     "data": {
      "image/png": "[encoded data removed]",
      "text/plain": [
       "<Figure size 432x288 with 8 Axes>"
      ]
     },
     "metadata": {
      "needs_background": "light"
     },
     "output_type": "display_data"
    },
    {
     "data": {
      "image/png": "[encoded data removed]",
      "text/plain": [
       "<Figure size 432x288 with 16 Axes>"
      ]
     },
     "metadata": {
      "needs_background": "light"
     },
     "output_type": "display_data"
    }
   ],
   "source": [
    "import matplotlib.pyplot as plt\n",
    "import numpy as np\n",
    "\n",
    "mnist_example = ds_full.take(3)\n",
    "for sample in mnist_example:\n",
    "    image, label = sample[0].numpy(), sample[1].numpy()\n",
    "    imshow_array(image[:, :, 0])\n",
    "    plt.show()\n",
    "    print(\"Label: %d\" % label)\n",
    "\n",
    "    # Предсказание.\n",
    "    print(classifier.predict(np.array([image]))[0])\n",
    "\n",
    "    # Отрисовка слоёв.\n",
    "    debug = debug_classifier.predict(np.array([image]))\n",
    "    for output in debug:\n",
    "        for element in output:\n",
    "            element = np.swapaxes(element, 0, 2)\n",
    "            element = np.swapaxes(element, 1, 2)\n",
    "\n",
    "            i = 0\n",
    "            n = len(element)\n",
    "            for filter in element:\n",
    "                plt.subplot(1, n, 1 + i)\n",
    "                imshow_array(filter)\n",
    "                i += 1\n",
    "\n",
    "            plt.show()"
   ]
  },
  {
   "cell_type": "markdown",
   "metadata": {
    "colab_type": "text",
    "id": "dLO-jEOpQRF8"
   },
   "source": [
    "# Kernel density"
   ]
  },
  {
   "cell_type": "markdown",
   "metadata": {
    "colab_type": "text",
    "id": "kMURb69sT9i7"
   },
   "source": [
    "#### Полный датасет без разбиения по комплектам"
   ]
  },
  {
   "cell_type": "code",
   "execution_count": 15,
   "metadata": {
    "colab": {},
    "colab_type": "code",
    "id": "MnhwOb8fnqO3"
   },
   "outputs": [],
   "source": [
    "def normalize_crop(x):\n",
    "    return min(1.0, max(0.0, x))"
   ]
  },
  {
   "cell_type": "code",
   "execution_count": 16,
   "metadata": {
    "colab": {},
    "colab_type": "code",
    "id": "sy0SgDYiQUXB"
   },
   "outputs": [],
   "source": [
    "samples = list(ds_full.take(-1))\n",
    "images = [sample[0].numpy().reshape(28,28) for sample in samples]\n",
    "labels = [sample[1].numpy() for sample in samples]\n",
    "\n",
    "images_vectors = [image.reshape(28*28) for image in images]"
   ]
  },
  {
   "cell_type": "markdown",
   "metadata": {
    "colab_type": "text",
    "id": "Jctxg3sxUQl6"
   },
   "source": [
    "#### PCA-преобразование"
   ]
  },
  {
   "cell_type": "code",
   "execution_count": 17,
   "metadata": {
    "colab": {},
    "colab_type": "code",
    "id": "dMSlnZFxR_S8"
   },
   "outputs": [],
   "source": [
    "from sklearn.decomposition import PCA\n",
    "\n",
    "pca_images = PCA(n_components=10, whiten=False)\n",
    "images_vectors_pca = pca_images.fit_transform(images_vectors)"
   ]
  },
  {
   "cell_type": "markdown",
   "metadata": {
    "colab_type": "text",
    "id": "ZOQv6i4nRK6W"
   },
   "source": [
    "#### Визуальная проверка PCA-преобразования"
   ]
  },
  {
   "cell_type": "code",
   "execution_count": 18,
   "metadata": {
    "colab": {
     "base_uri": "https://localhost:8080/",
     "height": 479
    },
    "colab_type": "code",
    "id": "yQj7IjKnRRRO",
    "outputId": "c36eb4bb-fc56-4f9a-82fd-656925d67f83"
   },
   "outputs": [
    {
     "data": {
      "image/png": "[encoded data removed]",
      "text/plain": [
       "<Figure size 432x288 with 1 Axes>"
      ]
     },
     "metadata": {
      "needs_background": "light"
     },
     "output_type": "display_data"
    },
    {
     "data": {
      "image/png": "[encoded data removed]",
      "text/plain": [
       "<Figure size 432x288 with 1 Axes>"
      ]
     },
     "metadata": {
      "needs_background": "light"
     },
     "output_type": "display_data"
    }
   ],
   "source": [
    "test = pca_images.inverse_transform(images_vectors_pca[0])\n",
    "test = test.reshape(28,28)\n",
    "test = np.vectorize(normalize_crop)(test)\n",
    "\n",
    "imshow_array(images[0])\n",
    "plt.show()\n",
    "imshow_array(test)\n",
    "plt.show()"
   ]
  },
  {
   "cell_type": "markdown",
   "metadata": {},
   "source": [
    "### Инициализация и обучение модели KDE"
   ]
  },
  {
   "cell_type": "markdown",
   "metadata": {
    "colab_type": "text",
    "id": "pqfyhpnFUVc3"
   },
   "source": [
    "#### Оптимизация ширины"
   ]
  },
  {
   "cell_type": "code",
   "execution_count": 19,
   "metadata": {
    "colab": {},
    "colab_type": "code",
    "id": "mPnRlDhKuyrD"
   },
   "outputs": [],
   "source": [
    "from sklearn.neighbors import KernelDensity\n",
    "#from sklearn.model_selection import GridSearchCV\n",
    "\n",
    "#params = {'bandwidth': np.logspace(-1, 0, 20)}\n",
    "#grid = GridSearchCV(KernelDensity(), params)\n",
    "#grid.fit(lowdim_vectors)"
   ]
  },
  {
   "cell_type": "code",
   "execution_count": 20,
   "metadata": {
    "colab": {
     "base_uri": "https://localhost:8080/",
     "height": 34
    },
    "colab_type": "code",
    "id": "uESDdY2JuwXE",
    "outputId": "48122842-967d-4074-b734-de2f3a084010"
   },
   "outputs": [
    {
     "name": "stdout",
     "output_type": "stream",
     "text": [
      "{'algorithm': 'auto', 'atol': 0, 'bandwidth': 0.25, 'breadth_first': True, 'kernel': 'gaussian', 'leaf_size': 40, 'metric': 'euclidean', 'metric_params': None, 'rtol': 0}\n"
     ]
    }
   ],
   "source": [
    "kde_images = KernelDensity(bandwidth=0.25, kernel='gaussian')\n",
    "kde_images.fit(images_vectors_pca)\n",
    "#kde_images = grid.best_estimator_\n",
    "print(kde_images.get_params())"
   ]
  },
  {
   "cell_type": "code",
   "execution_count": 21,
   "metadata": {
    "colab": {
     "base_uri": "https://localhost:8080/",
     "height": 941
    },
    "colab_type": "code",
    "id": "bsi0B2UClfEQ",
    "outputId": "73651349-943c-4975-f84c-9eb025ef1ca8"
   },
   "outputs": [
    {
     "data": {
      "image/png": "[encoded data removed]",
      "text/plain": [
       "<Figure size 432x288 with 1 Axes>"
      ]
     },
     "metadata": {
      "needs_background": "light"
     },
     "output_type": "display_data"
    },
    {
     "data": {
      "image/png": "[encoded data removed]",
      "text/plain": [
       "<Figure size 432x288 with 1 Axes>"
      ]
     },
     "metadata": {
      "needs_background": "light"
     },
     "output_type": "display_data"
    },
    {
     "data": {
      "image/png": "[encoded data removed]",
      "text/plain": [
       "<Figure size 432x288 with 1 Axes>"
      ]
     },
     "metadata": {
      "needs_background": "light"
     },
     "output_type": "display_data"
    },
    {
     "data": {
      "image/png": "[encoded data removed]",
      "text/plain": [
       "<Figure size 432x288 with 1 Axes>"
      ]
     },
     "metadata": {
      "needs_background": "light"
     },
     "output_type": "display_data"
    }
   ],
   "source": [
    "for i in range(4):\n",
    "    test = kde_images.sample()#(random_state=i)\n",
    "    test = pca_images.inverse_transform(test)\n",
    "    test = test.reshape(28,28)\n",
    "    test = np.vectorize(normalize_crop)(test)\n",
    "\n",
    "    imshow_array(test)\n",
    "    plt.show()"
   ]
  },
  {
   "cell_type": "markdown",
   "metadata": {
    "colab_type": "text",
    "id": "PRLjZdsz7NAT"
   },
   "source": [
    "# Автоэнкодер"
   ]
  },
  {
   "cell_type": "code",
   "execution_count": 46,
   "metadata": {
    "colab": {},
    "colab_type": "code",
    "id": "VCOoThvUWiy1"
   },
   "outputs": [],
   "source": [
    "ds_train_images, ds_test_images = tfds.load(\n",
    "    'mnist',\n",
    "    split=['train', 'test'],\n",
    "    shuffle_files=True,\n",
    "    as_supervised=True\n",
    ")"
   ]
  },
  {
   "cell_type": "code",
   "execution_count": 47,
   "metadata": {
    "colab": {},
    "colab_type": "code",
    "id": "20Ei3W6MbKv-"
   },
   "outputs": [],
   "source": [
    "def relabel_to_image(image, label):\n",
    "    return image, image"
   ]
  },
  {
   "cell_type": "code",
   "execution_count": 48,
   "metadata": {
    "colab": {},
    "colab_type": "code",
    "id": "_sd5MdPWW1l7"
   },
   "outputs": [],
   "source": [
    "ds_train_images = ds_train_images.map(\n",
    "    normalize_img, num_parallel_calls=tf.data.experimental.AUTOTUNE)\n",
    "ds_train_images = ds_train_images.map(\n",
    "    relabel_to_image, num_parallel_calls=tf.data.experimental.AUTOTUNE)\n",
    "ds_train_images = ds_train_images.cache()\n",
    "ds_train_images = ds_train_images.shuffle(ds_info.splits['train'].num_examples)\n",
    "ds_train_images = ds_train_images.batch(128)\n",
    "ds_train_images = ds_train_images.prefetch(tf.data.experimental.AUTOTUNE)"
   ]
  },
  {
   "cell_type": "code",
   "execution_count": 49,
   "metadata": {
    "colab": {},
    "colab_type": "code",
    "id": "yzJlMkBCcFwA"
   },
   "outputs": [],
   "source": [
    "ds_test_images = ds_test_images.map(\n",
    "    normalize_img, num_parallel_calls=tf.data.experimental.AUTOTUNE)\n",
    "ds_test_images = ds_test_images.map(\n",
    "    relabel_to_image, num_parallel_calls=tf.data.experimental.AUTOTUNE)\n",
    "ds_test_images = ds_test_images.batch(128)\n",
    "ds_test_images = ds_test_images.cache()\n",
    "ds_test_images = ds_test_images.prefetch(tf.data.experimental.AUTOTUNE)"
   ]
  },
  {
   "cell_type": "code",
   "execution_count": 22,
   "metadata": {},
   "outputs": [],
   "source": [
    "def similarity_loss(y_true, y_pred):\n",
    "    delta = tf.keras.backend.abs(y_true - y_pred)\n",
    "    squared = tf.keras.backend.square(y_true - y_pred)\n",
    "    return tf.keras.backend.mean(delta - 0.5 * squared, axis=-1)"
   ]
  },
  {
   "cell_type": "code",
   "execution_count": 42,
   "metadata": {
    "colab": {},
    "colab_type": "code",
    "id": "NCuecL6r7PUq"
   },
   "outputs": [],
   "source": [
    "def define_autoencoder(shape_input, dimension):\n",
    "    # Инициализация весов.\n",
    "    init = tf.keras.initializers.RandomNormal(stddev = 0.02)\n",
    "\n",
    "    # Входные данные генератора / выборки.\n",
    "    input_layer = tf.keras.layers.Input(shape_input)\n",
    "    next_layer = input_layer\n",
    "\n",
    "    # 1 блок слоёв.\n",
    "    next_layer = tf.keras.layers.GaussianNoise(0.1)(input_layer)\n",
    "    next_layer = tf.keras.layers.Conv2D(filters = 8, kernel_size = (3, 3), strides = (1, 1), padding = 'same', kernel_initializer = init)(next_layer)\n",
    "    next_layer = tf.keras.layers.BatchNormalization()(next_layer)\n",
    "    next_layer = tf.keras.layers.LeakyReLU(alpha=0.2)(next_layer)\n",
    "    #next_layer = tf.keras.layers.Dropout(0.2)(next_layer)\n",
    "    next_layer = tf.keras.layers.MaxPooling2D(pool_size = (2, 2), padding = 'same')(next_layer)\n",
    "\n",
    "    # 2 блок слоёв.\n",
    "    #next_layer = tf.keras.layers.GaussianNoise(0.1)(input_layer)\n",
    "    next_layer = tf.keras.layers.Conv2D(filters = 16, kernel_size = (3, 3), strides = (1, 1), padding = 'same', kernel_initializer = init)(next_layer)\n",
    "    next_layer = tf.keras.layers.BatchNormalization()(next_layer)\n",
    "    next_layer = tf.keras.layers.LeakyReLU(alpha=0.2)(next_layer)\n",
    "    next_layer = tf.keras.layers.Dropout(0.1)(next_layer)\n",
    "    next_layer = tf.keras.layers.MaxPooling2D(pool_size = (2, 2), padding = 'same')(next_layer)\n",
    "\n",
    "    # 3 блок слоёв.\n",
    "    #next_layer = tf.keras.layers.GaussianNoise(0.1)(input_layer)\n",
    "    next_layer = tf.keras.layers.Conv2D(filters = 32, kernel_size = (3, 3), strides = (1, 1), padding = 'same', kernel_initializer = init)(next_layer)\n",
    "    next_layer = tf.keras.layers.BatchNormalization()(next_layer)\n",
    "    next_layer = tf.keras.layers.LeakyReLU(alpha=0.2)(next_layer)\n",
    "    next_layer = tf.keras.layers.Dropout(0.2)(next_layer)\n",
    "    next_layer = tf.keras.layers.MaxPooling2D(pool_size = (2, 2), padding = 'same')(next_layer)\n",
    "\n",
    "    # Бутылочное горлышко.\n",
    "    next_layer = tf.keras.layers.Flatten()(next_layer)\n",
    "    next_layer = tf.keras.layers.Dense(dimension)(next_layer)\n",
    "    bottleneck = tf.keras.layers.Activation('sigmoid')(next_layer)\n",
    "\n",
    "    # Модель кодировщика.\n",
    "    encoder = tf.keras.Model(input_layer, bottleneck)\n",
    "\n",
    "    # Начало модели декодировщика.\n",
    "    input_code_layer = tf.keras.layers.Input((dimension))\n",
    "    next_layer = input_code_layer\n",
    "\n",
    "    # 3 блок слоёв.\n",
    "    #next_layer = tf.keras.layers.GaussianNoise(0.1)(input_layer)\n",
    "    next_layer = tf.keras.layers.Dense(4*4*32)(next_layer)\n",
    "    next_layer = tf.keras.layers.Reshape((4, 4, 32))(next_layer)\n",
    "    next_layer = tf.keras.layers.BatchNormalization()(next_layer)\n",
    "    next_layer = tf.keras.layers.LeakyReLU(alpha=0.2)(next_layer)\n",
    "    next_layer = tf.keras.layers.Dropout(0.2)(next_layer)\n",
    "\n",
    "    # 2 блок слоёв.\n",
    "    #next_layer = tf.keras.layers.GaussianNoise(0.1)(input_layer)\n",
    "    next_layer = tf.keras.layers.UpSampling2D(size=(2, 2))(next_layer)\n",
    "    next_layer = tf.keras.layers.Conv2D(filters = 32, kernel_size = (3, 3), strides = (1, 1), padding = 'same', kernel_initializer = init)(next_layer)\n",
    "    next_layer = tf.keras.layers.Cropping2D(cropping=((0, 1), (0, 1)))(next_layer)\n",
    "    next_layer = tf.keras.layers.BatchNormalization()(next_layer)\n",
    "    next_layer = tf.keras.layers.LeakyReLU(alpha=0.2)(next_layer)\n",
    "    next_layer = tf.keras.layers.Dropout(0.1)(next_layer)\n",
    "\n",
    "    # 1 блок слоёв.\n",
    "    #next_layer = tf.keras.layers.GaussianNoise(0.1)(input_layer)\n",
    "    next_layer = tf.keras.layers.UpSampling2D(size=(2, 2))(next_layer)\n",
    "    next_layer = tf.keras.layers.Conv2D(filters = 8, kernel_size = (3, 3), strides = (1, 1), padding = 'same', kernel_initializer = init)(next_layer)\n",
    "    next_layer = tf.keras.layers.BatchNormalization()(next_layer)\n",
    "    next_layer = tf.keras.layers.LeakyReLU(alpha=0.2)(next_layer)\n",
    "    #next_layer = tf.keras.layers.Dropout(0.1)(next_layer)\n",
    "\n",
    "    # 0 блок слоёв.\n",
    "    #next_layer = tf.keras.layers.GaussianNoise(0.1)(input_layer)\n",
    "    next_layer = tf.keras.layers.UpSampling2D(size=(2, 2))(next_layer)\n",
    "    next_layer = tf.keras.layers.Conv2D(filters = 1, kernel_size = (3, 3), strides = (1, 1), padding = 'same', kernel_initializer = init)(next_layer)\n",
    "    next_layer = tf.keras.layers.BatchNormalization()(next_layer)\n",
    "    next_layer = tf.keras.layers.Activation('sigmoid')(next_layer)\n",
    "    #next_layer = tf.keras.layers.Dropout(0.1)(next_layer)\n",
    "\n",
    "    output_layer = next_layer\n",
    "\n",
    "    # Модель.\n",
    "    decoder = tf.keras.models.Model(input_code_layer, output_layer) # Декодировщик.\n",
    "    autoencoder = tf.keras.Sequential([encoder, decoder])\n",
    "\n",
    "    # Компиляция модели.\n",
    "    opt = tf.keras.optimizers.Adam(lr = 0.001)\n",
    "    autoencoder.compile(loss = similarity_loss, optimizer = opt, loss_weights = [1.0])\n",
    "    return encoder, decoder, autoencoder"
   ]
  },
  {
   "cell_type": "code",
   "execution_count": 43,
   "metadata": {
    "colab": {},
    "colab_type": "code",
    "id": "dylcNG6oOYQ0"
   },
   "outputs": [],
   "source": [
    "codes_dim = 16\n",
    "encoder, decoder, autoencoder = define_autoencoder(mnist_shape, codes_dim)"
   ]
  },
  {
   "cell_type": "code",
   "execution_count": 44,
   "metadata": {
    "colab": {
     "base_uri": "https://localhost:8080/",
     "height": 1000
    },
    "colab_type": "code",
    "id": "jClhg4XzPAO-",
    "outputId": "92ed2802-2cac-4f45-dbd7-6a991b24fffe"
   },
   "outputs": [
    {
     "name": "stdout",
     "output_type": "stream",
     "text": [
      "Model: \"functional_11\"\n",
      "_________________________________________________________________\n",
      "Layer (type)                 Output Shape              Param #   \n",
      "=================================================================\n",
      "input_6 (InputLayer)         [(None, 28, 28, 1)]       0         \n",
      "_________________________________________________________________\n",
      "gaussian_noise_3 (GaussianNo (None, 28, 28, 1)         0         \n",
      "_________________________________________________________________\n",
      "conv2d_12 (Conv2D)           (None, 28, 28, 8)         80        \n",
      "_________________________________________________________________\n",
      "batch_normalization_13 (Batc (None, 28, 28, 8)         32        \n",
      "_________________________________________________________________\n",
      "leaky_re_lu_12 (LeakyReLU)   (None, 28, 28, 8)         0         \n",
      "_________________________________________________________________\n",
      "max_pooling2d_9 (MaxPooling2 (None, 14, 14, 8)         0         \n",
      "_________________________________________________________________\n",
      "conv2d_13 (Conv2D)           (None, 14, 14, 16)        1168      \n",
      "_________________________________________________________________\n",
      "batch_normalization_14 (Batc (None, 14, 14, 16)        64        \n",
      "_________________________________________________________________\n",
      "leaky_re_lu_13 (LeakyReLU)   (None, 14, 14, 16)        0         \n",
      "_________________________________________________________________\n",
      "dropout_8 (Dropout)          (None, 14, 14, 16)        0         \n",
      "_________________________________________________________________\n",
      "max_pooling2d_10 (MaxPooling (None, 7, 7, 16)          0         \n",
      "_________________________________________________________________\n",
      "conv2d_14 (Conv2D)           (None, 7, 7, 32)          4640      \n",
      "_________________________________________________________________\n",
      "batch_normalization_15 (Batc (None, 7, 7, 32)          128       \n",
      "_________________________________________________________________\n",
      "leaky_re_lu_14 (LeakyReLU)   (None, 7, 7, 32)          0         \n",
      "_________________________________________________________________\n",
      "dropout_9 (Dropout)          (None, 7, 7, 32)          0         \n",
      "_________________________________________________________________\n",
      "max_pooling2d_11 (MaxPooling (None, 4, 4, 32)          0         \n",
      "_________________________________________________________________\n",
      "flatten_3 (Flatten)          (None, 512)               0         \n",
      "_________________________________________________________________\n",
      "dense_5 (Dense)              (None, 16)                8208      \n",
      "_________________________________________________________________\n",
      "activation_7 (Activation)    (None, 16)                0         \n",
      "=================================================================\n",
      "Total params: 14,320\n",
      "Trainable params: 14,208\n",
      "Non-trainable params: 112\n",
      "_________________________________________________________________\n"
     ]
    }
   ],
   "source": [
    "# Сводка по модели.\n",
    "encoder.summary()\n",
    "# Отрисовка модели.\n",
    "#tf.keras.utils.plot_model(encoder, show_shapes = True, show_layer_names = True)"
   ]
  },
  {
   "cell_type": "code",
   "execution_count": 45,
   "metadata": {
    "colab": {
     "base_uri": "https://localhost:8080/",
     "height": 1000
    },
    "colab_type": "code",
    "id": "xWKucXMEObfA",
    "outputId": "b18ba03d-0531-4da9-b1a9-64c143d6155a"
   },
   "outputs": [
    {
     "name": "stdout",
     "output_type": "stream",
     "text": [
      "Model: \"functional_13\"\n",
      "_________________________________________________________________\n",
      "Layer (type)                 Output Shape              Param #   \n",
      "=================================================================\n",
      "input_7 (InputLayer)         [(None, 16)]              0         \n",
      "_________________________________________________________________\n",
      "dense_6 (Dense)              (None, 512)               8704      \n",
      "_________________________________________________________________\n",
      "reshape_2 (Reshape)          (None, 4, 4, 32)          0         \n",
      "_________________________________________________________________\n",
      "batch_normalization_16 (Batc (None, 4, 4, 32)          128       \n",
      "_________________________________________________________________\n",
      "leaky_re_lu_15 (LeakyReLU)   (None, 4, 4, 32)          0         \n",
      "_________________________________________________________________\n",
      "dropout_10 (Dropout)         (None, 4, 4, 32)          0         \n",
      "_________________________________________________________________\n",
      "up_sampling2d_3 (UpSampling2 (None, 8, 8, 32)          0         \n",
      "_________________________________________________________________\n",
      "conv2d_15 (Conv2D)           (None, 8, 8, 32)          9248      \n",
      "_________________________________________________________________\n",
      "cropping2d_1 (Cropping2D)    (None, 7, 7, 32)          0         \n",
      "_________________________________________________________________\n",
      "batch_normalization_17 (Batc (None, 7, 7, 32)          128       \n",
      "_________________________________________________________________\n",
      "leaky_re_lu_16 (LeakyReLU)   (None, 7, 7, 32)          0         \n",
      "_________________________________________________________________\n",
      "dropout_11 (Dropout)         (None, 7, 7, 32)          0         \n",
      "_________________________________________________________________\n",
      "up_sampling2d_4 (UpSampling2 (None, 14, 14, 32)        0         \n",
      "_________________________________________________________________\n",
      "conv2d_16 (Conv2D)           (None, 14, 14, 8)         2312      \n",
      "_________________________________________________________________\n",
      "batch_normalization_18 (Batc (None, 14, 14, 8)         32        \n",
      "_________________________________________________________________\n",
      "leaky_re_lu_17 (LeakyReLU)   (None, 14, 14, 8)         0         \n",
      "_________________________________________________________________\n",
      "up_sampling2d_5 (UpSampling2 (None, 28, 28, 8)         0         \n",
      "_________________________________________________________________\n",
      "conv2d_17 (Conv2D)           (None, 28, 28, 1)         73        \n",
      "_________________________________________________________________\n",
      "batch_normalization_19 (Batc (None, 28, 28, 1)         4         \n",
      "_________________________________________________________________\n",
      "activation_8 (Activation)    (None, 28, 28, 1)         0         \n",
      "=================================================================\n",
      "Total params: 20,629\n",
      "Trainable params: 20,483\n",
      "Non-trainable params: 146\n",
      "_________________________________________________________________\n"
     ]
    }
   ],
   "source": [
    "# Сводка по модели.\n",
    "decoder.summary()\n",
    "# Отрисовка модели.\n",
    "#tf.keras.utils.plot_model(decoder, show_shapes = True, show_layer_names = True)"
   ]
  },
  {
   "cell_type": "code",
   "execution_count": 50,
   "metadata": {
    "colab": {
     "base_uri": "https://localhost:8080/",
     "height": 590
    },
    "colab_type": "code",
    "id": "BMUWeb51PDhJ",
    "outputId": "de572763-f92b-4318-f1c0-e660802f25a1"
   },
   "outputs": [
    {
     "name": "stdout",
     "output_type": "stream",
     "text": [
      "Epoch 1/16\n",
      "469/469 [==============================] - 29s 62ms/step - loss: 0.2537 - val_loss: 0.2066\n",
      "Epoch 2/16\n",
      "469/469 [==============================] - 29s 62ms/step - loss: 0.1792 - val_loss: 0.1418\n",
      "Epoch 3/16\n",
      "469/469 [==============================] - 28s 59ms/step - loss: 0.1298 - val_loss: 0.1039\n",
      "Epoch 4/16\n",
      "469/469 [==============================] - 28s 59ms/step - loss: 0.0990 - val_loss: 0.0856\n",
      "Epoch 5/16\n",
      "469/469 [==============================] - 28s 60ms/step - loss: 0.0796 - val_loss: 0.0682\n",
      "Epoch 6/16\n",
      "469/469 [==============================] - 28s 60ms/step - loss: 0.0668 - val_loss: 0.0575\n",
      "Epoch 7/16\n",
      "469/469 [==============================] - 28s 60ms/step - loss: 0.0580 - val_loss: 0.0499\n",
      "Epoch 8/16\n",
      "469/469 [==============================] - 28s 60ms/step - loss: 0.0518 - val_loss: 0.0426\n",
      "Epoch 9/16\n",
      "469/469 [==============================] - 28s 60ms/step - loss: 0.0473 - val_loss: 0.0371\n",
      "Epoch 10/16\n",
      "469/469 [==============================] - 28s 60ms/step - loss: 0.0439 - val_loss: 0.0340\n",
      "Epoch 11/16\n",
      "469/469 [==============================] - 28s 60ms/step - loss: 0.0414 - val_loss: 0.0342\n",
      "Epoch 12/16\n",
      "469/469 [==============================] - 28s 60ms/step - loss: 0.0394 - val_loss: 0.0331\n",
      "Epoch 13/16\n",
      "469/469 [==============================] - 28s 60ms/step - loss: 0.0379 - val_loss: 0.0317\n",
      "Epoch 14/16\n",
      "469/469 [==============================] - 28s 60ms/step - loss: 0.0367 - val_loss: 0.0307\n",
      "Epoch 15/16\n",
      "469/469 [==============================] - 28s 61ms/step - loss: 0.0357 - val_loss: 0.0310\n",
      "Epoch 16/16\n",
      "469/469 [==============================] - 28s 60ms/step - loss: 0.0349 - val_loss: 0.0302\n"
     ]
    },
    {
     "data": {
      "text/plain": [
       "<tensorflow.python.keras.callbacks.History at 0x7f332cc34eb0>"
      ]
     },
     "execution_count": 50,
     "metadata": {},
     "output_type": "execute_result"
    }
   ],
   "source": [
    "#encoder = tf.eras.models.load_model('path/to/location')\n",
    "\n",
    "autoencoder.fit(\n",
    "    ds_train_images,\n",
    "    epochs=16,\n",
    "    validation_data=ds_test_images,\n",
    ")"
   ]
  },
  {
   "cell_type": "code",
   "execution_count": 51,
   "metadata": {},
   "outputs": [],
   "source": [
    "autoencoder.save('autoencoder.h5')\n",
    "encoder.save('encoder.h5')\n",
    "decoder.save('decoder.h5')"
   ]
  },
  {
   "cell_type": "markdown",
   "metadata": {},
   "source": [
    "### Визуальная проверка"
   ]
  },
  {
   "cell_type": "code",
   "execution_count": 52,
   "metadata": {
    "colab": {
     "base_uri": "https://localhost:8080/",
     "height": 847
    },
    "colab_type": "code",
    "id": "dB8Q7mbTPVcg",
    "outputId": "d71ea372-eb72-4d16-ecb4-120a3e02c988"
   },
   "outputs": [
    {
     "data": {
      "image/png": "[encoded data removed]",
      "text/plain": [
       "<Figure size 432x288 with 2 Axes>"
      ]
     },
     "metadata": {
      "needs_background": "light"
     },
     "output_type": "display_data"
    },
    {
     "data": {
      "image/png": "[encoded data removed]",
      "text/plain": [
       "<Figure size 432x288 with 2 Axes>"
      ]
     },
     "metadata": {
      "needs_background": "light"
     },
     "output_type": "display_data"
    },
    {
     "data": {
      "image/png": "[encoded data removed]",
      "text/plain": [
       "<Figure size 432x288 with 2 Axes>"
      ]
     },
     "metadata": {
      "needs_background": "light"
     },
     "output_type": "display_data"
    },
    {
     "data": {
      "image/png": "[encoded data removed]",
      "text/plain": [
       "<Figure size 432x288 with 2 Axes>"
      ]
     },
     "metadata": {
      "needs_background": "light"
     },
     "output_type": "display_data"
    },
    {
     "data": {
      "image/png": "[encoded data removed]",
      "text/plain": [
       "<Figure size 432x288 with 2 Axes>"
      ]
     },
     "metadata": {
      "needs_background": "light"
     },
     "output_type": "display_data"
    },
    {
     "data": {
      "image/png": "[encoded data removed]",
      "text/plain": [
       "<Figure size 432x288 with 2 Axes>"
      ]
     },
     "metadata": {
      "needs_background": "light"
     },
     "output_type": "display_data"
    },
    {
     "data": {
      "image/png": "[encoded data removed]",
      "text/plain": [
       "<Figure size 432x288 with 2 Axes>"
      ]
     },
     "metadata": {
      "needs_background": "light"
     },
     "output_type": "display_data"
    },
    {
     "data": {
      "image/png": "[encoded data removed]",
      "text/plain": [
       "<Figure size 432x288 with 2 Axes>"
      ]
     },
     "metadata": {
      "needs_background": "light"
     },
     "output_type": "display_data"
    },
    {
     "data": {
      "image/png": "[encoded data removed]",
      "text/plain": [
       "<Figure size 432x288 with 2 Axes>"
      ]
     },
     "metadata": {
      "needs_background": "light"
     },
     "output_type": "display_data"
    },
    {
     "data": {
      "image/png": "[encoded data removed]",
      "text/plain": [
       "<Figure size 432x288 with 2 Axes>"
      ]
     },
     "metadata": {
      "needs_background": "light"
     },
     "output_type": "display_data"
    },
    {
     "data": {
      "image/png": "[encoded data removed]",
      "text/plain": [
       "<Figure size 432x288 with 2 Axes>"
      ]
     },
     "metadata": {
      "needs_background": "light"
     },
     "output_type": "display_data"
    },
    {
     "data": {
      "image/png": "[encoded data removed]",
      "text/plain": [
       "<Figure size 432x288 with 2 Axes>"
      ]
     },
     "metadata": {
      "needs_background": "light"
     },
     "output_type": "display_data"
    },
    {
     "data": {
      "image/png": "[encoded data removed]",
      "text/plain": [
       "<Figure size 432x288 with 2 Axes>"
      ]
     },
     "metadata": {
      "needs_background": "light"
     },
     "output_type": "display_data"
    },
    {
     "data": {
      "image/png": "[encoded data removed]",
      "text/plain": [
       "<Figure size 432x288 with 2 Axes>"
      ]
     },
     "metadata": {
      "needs_background": "light"
     },
     "output_type": "display_data"
    },
    {
     "data": {
      "image/png": "[encoded data removed]",
      "text/plain": [
       "<Figure size 432x288 with 2 Axes>"
      ]
     },
     "metadata": {
      "needs_background": "light"
     },
     "output_type": "display_data"
    },
    {
     "data": {
      "image/png": "[encoded data removed]",
      "text/plain": [
       "<Figure size 432x288 with 2 Axes>"
      ]
     },
     "metadata": {
      "needs_background": "light"
     },
     "output_type": "display_data"
    },
    {
     "data": {
      "image/png": "[encoded data removed]",
      "text/plain": [
       "<Figure size 432x288 with 2 Axes>"
      ]
     },
     "metadata": {
      "needs_background": "light"
     },
     "output_type": "display_data"
    },
    {
     "data": {
      "image/png": "[encoded data removed]",
      "text/plain": [
       "<Figure size 432x288 with 2 Axes>"
      ]
     },
     "metadata": {
      "needs_background": "light"
     },
     "output_type": "display_data"
    },
    {
     "data": {
      "image/png": "[encoded data removed]",
      "text/plain": [
       "<Figure size 432x288 with 2 Axes>"
      ]
     },
     "metadata": {
      "needs_background": "light"
     },
     "output_type": "display_data"
    },
    {
     "data": {
      "image/png": "[encoded data removed]",
      "text/plain": [
       "<Figure size 432x288 with 2 Axes>"
      ]
     },
     "metadata": {
      "needs_background": "light"
     },
     "output_type": "display_data"
    },
    {
     "data": {
      "image/png": "[encoded data removed]",
      "text/plain": [
       "<Figure size 432x288 with 2 Axes>"
      ]
     },
     "metadata": {
      "needs_background": "light"
     },
     "output_type": "display_data"
    },
    {
     "data": {
      "image/png": "[encoded data removed]",
      "text/plain": [
       "<Figure size 432x288 with 2 Axes>"
      ]
     },
     "metadata": {
      "needs_background": "light"
     },
     "output_type": "display_data"
    },
    {
     "data": {
      "image/png": "[encoded data removed]",
      "text/plain": [
       "<Figure size 432x288 with 2 Axes>"
      ]
     },
     "metadata": {
      "needs_background": "light"
     },
     "output_type": "display_data"
    },
    {
     "data": {
      "image/png": "[encoded data removed]",
      "text/plain": [
       "<Figure size 432x288 with 2 Axes>"
      ]
     },
     "metadata": {
      "needs_background": "light"
     },
     "output_type": "display_data"
    },
    {
     "data": {
      "image/png": "[encoded data removed]",
      "text/plain": [
       "<Figure size 432x288 with 2 Axes>"
      ]
     },
     "metadata": {
      "needs_background": "light"
     },
     "output_type": "display_data"
    },
    {
     "data": {
      "image/png": "[encoded data removed]",
      "text/plain": [
       "<Figure size 432x288 with 2 Axes>"
      ]
     },
     "metadata": {
      "needs_background": "light"
     },
     "output_type": "display_data"
    },
    {
     "data": {
      "image/png": "[encoded data removed]",
      "text/plain": [
       "<Figure size 432x288 with 2 Axes>"
      ]
     },
     "metadata": {
      "needs_background": "light"
     },
     "output_type": "display_data"
    },
    {
     "data": {
      "image/png": "[encoded data removed]",
      "text/plain": [
       "<Figure size 432x288 with 2 Axes>"
      ]
     },
     "metadata": {
      "needs_background": "light"
     },
     "output_type": "display_data"
    },
    {
     "data": {
      "image/png": "[encoded data removed]",
      "text/plain": [
       "<Figure size 432x288 with 2 Axes>"
      ]
     },
     "metadata": {
      "needs_background": "light"
     },
     "output_type": "display_data"
    },
    {
     "data": {
      "image/png": "[encoded data removed]",
      "text/plain": [
       "<Figure size 432x288 with 2 Axes>"
      ]
     },
     "metadata": {
      "needs_background": "light"
     },
     "output_type": "display_data"
    },
    {
     "data": {
      "image/png": "[encoded data removed]",
      "text/plain": [
       "<Figure size 432x288 with 2 Axes>"
      ]
     },
     "metadata": {
      "needs_background": "light"
     },
     "output_type": "display_data"
    },
    {
     "data": {
      "image/png": "[encoded data removed]",
      "text/plain": [
       "<Figure size 432x288 with 2 Axes>"
      ]
     },
     "metadata": {
      "needs_background": "light"
     },
     "output_type": "display_data"
    },
    {
     "data": {
      "image/png": "[encoded data removed]",
      "text/plain": [
       "<Figure size 432x288 with 2 Axes>"
      ]
     },
     "metadata": {
      "needs_background": "light"
     },
     "output_type": "display_data"
    },
    {
     "data": {
      "image/png": "[encoded data removed]",
      "text/plain": [
       "<Figure size 432x288 with 2 Axes>"
      ]
     },
     "metadata": {
      "needs_background": "light"
     },
     "output_type": "display_data"
    },
    {
     "data": {
      "image/png": "[encoded data removed]",
      "text/plain": [
       "<Figure size 432x288 with 2 Axes>"
      ]
     },
     "metadata": {
      "needs_background": "light"
     },
     "output_type": "display_data"
    },
    {
     "data": {
      "image/png": "[encoded data removed]",
      "text/plain": [
       "<Figure size 432x288 with 2 Axes>"
      ]
     },
     "metadata": {
      "needs_background": "light"
     },
     "output_type": "display_data"
    },
    {
     "data": {
      "image/png": "[encoded data removed]",
      "text/plain": [
       "<Figure size 432x288 with 2 Axes>"
      ]
     },
     "metadata": {
      "needs_background": "light"
     },
     "output_type": "display_data"
    },
    {
     "data": {
      "image/png": "[encoded data removed]",
      "text/plain": [
       "<Figure size 432x288 with 2 Axes>"
      ]
     },
     "metadata": {
      "needs_background": "light"
     },
     "output_type": "display_data"
    },
    {
     "data": {
      "image/png": "[encoded data removed]",
      "text/plain": [
       "<Figure size 432x288 with 2 Axes>"
      ]
     },
     "metadata": {
      "needs_background": "light"
     },
     "output_type": "display_data"
    },
    {
     "data": {
      "image/png": "[encoded data removed]",
      "text/plain": [
       "<Figure size 432x288 with 2 Axes>"
      ]
     },
     "metadata": {
      "needs_background": "light"
     },
     "output_type": "display_data"
    },
    {
     "data": {
      "image/png": "[encoded data removed]",
      "text/plain": [
       "<Figure size 432x288 with 2 Axes>"
      ]
     },
     "metadata": {
      "needs_background": "light"
     },
     "output_type": "display_data"
    },
    {
     "data": {
      "image/png": "[encoded data removed]",
      "text/plain": [
       "<Figure size 432x288 with 2 Axes>"
      ]
     },
     "metadata": {
      "needs_background": "light"
     },
     "output_type": "display_data"
    },
    {
     "data": {
      "image/png": "[encoded data removed]",
      "text/plain": [
       "<Figure size 432x288 with 2 Axes>"
      ]
     },
     "metadata": {
      "needs_background": "light"
     },
     "output_type": "display_data"
    },
    {
     "data": {
      "image/png": "[encoded data removed]",
      "text/plain": [
       "<Figure size 432x288 with 2 Axes>"
      ]
     },
     "metadata": {
      "needs_background": "light"
     },
     "output_type": "display_data"
    },
    {
     "data": {
      "image/png": "[encoded data removed]",
      "text/plain": [
       "<Figure size 432x288 with 2 Axes>"
      ]
     },
     "metadata": {
      "needs_background": "light"
     },
     "output_type": "display_data"
    },
    {
     "data": {
      "image/png": "[encoded data removed]",
      "text/plain": [
       "<Figure size 432x288 with 2 Axes>"
      ]
     },
     "metadata": {
      "needs_background": "light"
     },
     "output_type": "display_data"
    },
    {
     "data": {
      "image/png": "[encoded data removed]",
      "text/plain": [
       "<Figure size 432x288 with 2 Axes>"
      ]
     },
     "metadata": {
      "needs_background": "light"
     },
     "output_type": "display_data"
    },
    {
     "data": {
      "image/png": "[encoded data removed]",
      "text/plain": [
       "<Figure size 432x288 with 2 Axes>"
      ]
     },
     "metadata": {
      "needs_background": "light"
     },
     "output_type": "display_data"
    },
    {
     "data": {
      "image/png": "[encoded data removed]",
      "text/plain": [
       "<Figure size 432x288 with 2 Axes>"
      ]
     },
     "metadata": {
      "needs_background": "light"
     },
     "output_type": "display_data"
    },
    {
     "data": {
      "image/png": "[encoded data removed]",
      "text/plain": [
       "<Figure size 432x288 with 2 Axes>"
      ]
     },
     "metadata": {
      "needs_background": "light"
     },
     "output_type": "display_data"
    }
   ],
   "source": [
    "mnist_example = ds_full.take(50)\n",
    "for sample in mnist_example:\n",
    "    image, label = sample[0].numpy(), sample[1].numpy()\n",
    "\n",
    "    plt.subplot(1, 2, 1)\n",
    "    imshow_array(image[:, :, 0])\n",
    "    #plt.show()\n",
    "\n",
    "    # Предсказание.\n",
    "    plt.subplot(1, 2, 2)\n",
    "    imshow_array(autoencoder.predict(np.array([image]))[0][:, :, 0])\n",
    "    plt.show()"
   ]
  },
  {
   "cell_type": "markdown",
   "metadata": {},
   "source": [
    "### Получение кодов всех изображений датасета"
   ]
  },
  {
   "cell_type": "code",
   "execution_count": 107,
   "metadata": {
    "colab": {},
    "colab_type": "code",
    "id": "0qXjr2vokLKF"
   },
   "outputs": [],
   "source": [
    "samples = list(ds_full.take(-1))\n",
    "images = np.array([sample[0].numpy().reshape(28,28,1) for sample in samples])\n",
    "codes = encoder.predict(images)"
   ]
  },
  {
   "cell_type": "code",
   "execution_count": 108,
   "metadata": {
    "colab": {},
    "colab_type": "code",
    "id": "6ZCDvzAkkteX"
   },
   "outputs": [],
   "source": [
    "from sklearn.decomposition import PCA\n",
    "\n",
    "pca_codes_dim = 16\n",
    "pca_codes = PCA(n_components=pca_codes_dim, whiten=False)\n",
    "codes_pca = pca_codes.fit_transform(codes)"
   ]
  },
  {
   "cell_type": "code",
   "execution_count": 83,
   "metadata": {
    "colab": {},
    "colab_type": "code",
    "id": "k56p5RLOg6CA"
   },
   "outputs": [],
   "source": [
    "def _interact_pca(code_pca):\n",
    "    print(code_pca)\n",
    "    imshow_array(decoder.predict(np.array([pca_codes.inverse_transform(code_pca)]))[0][:, :, 0])\n",
    "    plt.show()"
   ]
  },
  {
   "cell_type": "code",
   "execution_count": 84,
   "metadata": {},
   "outputs": [
    {
     "data": {
      "text/plain": [
       "'def _interact_pca_first16(x1, x2, x3, x4, x5, x6, x7, x8, x9, x10, x11, x12, x13, x14, x15, x16):\\n    code_pca = np.zeros(pca_codes_dim)\\n    code_pca[0] = x1\\n    code_pca[1] = x2\\n    code_pca[2] = x3\\n    code_pca[3] = x4\\n    code_pca[4] = x5\\n    code_pca[5] = x6\\n    code_pca[6] = x7\\n    code_pca[7] = x8\\n    code_pca[8] = x9\\n    code_pca[9] = x10\\n    code_pca[10] = x11\\n    code_pca[11] = x12\\n    code_pca[12] = x13\\n    code_pca[13] = x14\\n    code_pca[14] = x15\\n    code_pca[15] = x16\\n    \\n    imshow_array(decoder.predict(np.array([pca_codes.inverse_transform(code_pca)]))[0][:, :, 0])\\n    plt.show()'"
      ]
     },
     "execution_count": 84,
     "metadata": {},
     "output_type": "execute_result"
    }
   ],
   "source": [
    "\"\"\"def _interact_pca_first16(x1, x2, x3, x4, x5, x6, x7, x8, x9, x10, x11, x12, x13, x14, x15, x16):\n",
    "    code_pca = np.zeros(pca_codes_dim)\n",
    "    code_pca[0] = x1\n",
    "    code_pca[1] = x2\n",
    "    code_pca[2] = x3\n",
    "    code_pca[3] = x4\n",
    "    code_pca[4] = x5\n",
    "    code_pca[5] = x6\n",
    "    code_pca[6] = x7\n",
    "    code_pca[7] = x8\n",
    "    code_pca[8] = x9\n",
    "    code_pca[9] = x10\n",
    "    code_pca[10] = x11\n",
    "    code_pca[11] = x12\n",
    "    code_pca[12] = x13\n",
    "    code_pca[13] = x14\n",
    "    code_pca[14] = x15\n",
    "    code_pca[15] = x16\n",
    "    \n",
    "    imshow_array(decoder.predict(np.array([pca_codes.inverse_transform(code_pca)]))[0][:, :, 0])\n",
    "    plt.show()\"\"\""
   ]
  },
  {
   "cell_type": "code",
   "execution_count": 85,
   "metadata": {},
   "outputs": [
    {
     "data": {
      "text/plain": [
       "'import ipywidgets as ipw\\n\\n_min = -1.0\\n_max = 1.0\\n_step = 0.01\\nipw.interact(_interact_pca_first16,\\n             x1=(_min, _max, _step),\\n             x2=(_min, _max, _step),\\n             x3=(_min, _max, _step),\\n             x4=(_min, _max, _step),\\n             x5=(_min, _max, _step),\\n             x6=(_min, _max, _step),\\n             x7=(_min, _max, _step),\\n             x8=(_min, _max, _step),\\n             x9=(_min, _max, _step),\\n             x10=(_min, _max, _step),\\n             x11=(_min, _max, _step),\\n             x12=(_min, _max, _step),\\n             x13=(_min, _max, _step),\\n             x14=(_min, _max, _step),\\n             x15=(_min, _max, _step),\\n             x16=(_min, _max, _step))'"
      ]
     },
     "execution_count": 85,
     "metadata": {},
     "output_type": "execute_result"
    }
   ],
   "source": [
    "\"\"\"import ipywidgets as ipw\n",
    "\n",
    "_min = -1.0\n",
    "_max = 1.0\n",
    "_step = 0.01\n",
    "ipw.interact(_interact_pca_first16,\n",
    "             x1=(_min, _max, _step),\n",
    "             x2=(_min, _max, _step),\n",
    "             x3=(_min, _max, _step),\n",
    "             x4=(_min, _max, _step),\n",
    "             x5=(_min, _max, _step),\n",
    "             x6=(_min, _max, _step),\n",
    "             x7=(_min, _max, _step),\n",
    "             x8=(_min, _max, _step),\n",
    "             x9=(_min, _max, _step),\n",
    "             x10=(_min, _max, _step),\n",
    "             x11=(_min, _max, _step),\n",
    "             x12=(_min, _max, _step),\n",
    "             x13=(_min, _max, _step),\n",
    "             x14=(_min, _max, _step),\n",
    "             x15=(_min, _max, _step),\n",
    "             x16=(_min, _max, _step))\"\"\""
   ]
  },
  {
   "cell_type": "code",
   "execution_count": 86,
   "metadata": {},
   "outputs": [],
   "source": [
    "#class WidgetsArray:\n",
    "#    def __init__(self, array):\n",
    "#        self.array = array\n",
    "#        self.value = [widget.value for widget in self.array]\n",
    "#        \n",
    "#    def observe(self, a, b):\n",
    "#        for widget in self.array:\n",
    "#            widget.observe(a, b)\n",
    "#            \n",
    "#        self.value = [widget.value for widget in self.array]"
   ]
  },
  {
   "cell_type": "code",
   "execution_count": 87,
   "metadata": {
    "colab": {
     "base_uri": "https://localhost:8080/",
     "height": 440,
     "referenced_widgets": [
      "149f532209d34329ae1c77c4f6b68760",
      "726dad3de6ac45c3a26094fa0d012253",
      "ff0b7b16524a44638108d9f56457cefd",
      "30b020fccb0b49589c91d0307a781058",
      "acdbb4614ca4435caa87feb22f468851",
      "1fa732297801485b9abd9b6167a597b0",
      "a16cfc70478c4d4d8e8a3dbd2d7483b1",
      "82dc7be859bb4f28a8c7d46435e7855d",
      "3cf62971426e468c8f5a34656096e880",
      "47c7c4b0c81a4cc4b78e76ae7ca0ad27",
      "940dec7fd0e24156a24d7a6d697e40b7",
      "9150744e925d46368e2b39112fee6a88",
      "7c18e9f5bdee471786c74406e2ee13ef",
      "15dbc373c4ae48c3baf5949f02323351",
      "6b1dc663fef3412ea45d5ac1b40262e3",
      "c0c6be9d255443cbb4d46c0d39bb5f00",
      "3afd894c69c549a4a10cb1e5dc73a648",
      "4548d7ddc0f64f6cb2e1103601f58fc2",
      "ac62700fb9264c81b2461dc8a6272277",
      "e41488f43214439cbcf967654e3c8710",
      "5e2bb563827a4c3aba17eef4db604773",
      "34563238d9a34a06a18f70fa214b3dfd"
     ]
    },
    "colab_type": "code",
    "id": "UK06RQNfjdQ6",
    "outputId": "a53c681b-6c09-4df3-d149-103fe25ad433"
   },
   "outputs": [],
   "source": [
    "#import ipywidgets as ipw\n",
    "\n",
    "#sliders_array = [ipw.widgets.FloatSlider(value=0.5, min=-1.0, max=1.0, step=0.1) for i in range(pca_codes_dim)]\n",
    "#sliders = WidgetsArray(sliders_array)\n",
    "#ui = ipw.widgets.VBox(sliders_array)\n",
    "#out = ipw.widgets.interactive_output(_interact_pca, {'code_pca': sliders})\n",
    "\n",
    "#display(ui, out)"
   ]
  },
  {
   "cell_type": "markdown",
   "metadata": {},
   "source": [
    "### KDE для кодов"
   ]
  },
  {
   "cell_type": "code",
   "execution_count": 127,
   "metadata": {
    "colab": {},
    "colab_type": "code",
    "id": "mPnRlDhKuyrD"
   },
   "outputs": [
    {
     "data": {
      "text/plain": [
       "GridSearchCV(cv=None, error_score=nan,\n",
       "             estimator=KernelDensity(algorithm='auto', atol=0, bandwidth=1.0,\n",
       "                                     breadth_first=True, kernel='gaussian',\n",
       "                                     leaf_size=40, metric='euclidean',\n",
       "                                     metric_params=None, rtol=0),\n",
       "             iid='deprecated', n_jobs=16,\n",
       "             param_grid={'bandwidth': array([0.02      , 0.02857143, 0.03714286, 0.04571429, 0.05428571,\n",
       "       0.06285714, 0.07142857, 0.08      ]),\n",
       "                         'rtol': [0.001]},\n",
       "             pre_dispatch='2*n_jobs', refit=True, return_train_score=False,\n",
       "             scoring=None, verbose=0)"
      ]
     },
     "execution_count": 127,
     "metadata": {},
     "output_type": "execute_result"
    }
   ],
   "source": [
    "from sklearn.neighbors import KernelDensity\n",
    "from sklearn.model_selection import GridSearchCV\n",
    "\n",
    "params = {'bandwidth': np.linspace(0.02, 0.08, 8), 'rtol': [0.001]}\n",
    "grid = GridSearchCV(KernelDensity(), params, n_jobs=16)\n",
    "grid.fit(codes_pca)"
   ]
  },
  {
   "cell_type": "code",
   "execution_count": 170,
   "metadata": {
    "colab": {
     "base_uri": "https://localhost:8080/",
     "height": 34
    },
    "colab_type": "code",
    "id": "uESDdY2JuwXE",
    "outputId": "48122842-967d-4074-b734-de2f3a084010"
   },
   "outputs": [
    {
     "name": "stdout",
     "output_type": "stream",
     "text": [
      "{'algorithm': 'auto', 'atol': 0, 'bandwidth': 0.054285714285714284, 'breadth_first': True, 'kernel': 'gaussian', 'leaf_size': 40, 'metric': 'euclidean', 'metric_params': None, 'rtol': 0}\n"
     ]
    }
   ],
   "source": [
    "kde_codes = KernelDensity(bandwidth=0.054285714285714284, kernel='gaussian')\n",
    "kde_codes.fit(codes_pca)\n",
    "#kde_codes = grid.best_estimator_\n",
    "print(kde_codes.get_params())"
   ]
  },
  {
   "cell_type": "code",
   "execution_count": 171,
   "metadata": {
    "colab": {
     "base_uri": "https://localhost:8080/",
     "height": 941
    },
    "colab_type": "code",
    "id": "bsi0B2UClfEQ",
    "outputId": "73651349-943c-4975-f84c-9eb025ef1ca8"
   },
   "outputs": [
    {
     "data": {
      "image/png": "[encoded data removed]",
      "text/plain": [
       "<Figure size 432x288 with 1 Axes>"
      ]
     },
     "metadata": {
      "needs_background": "light"
     },
     "output_type": "display_data"
    },
    {
     "data": {
      "image/png": "[encoded data removed]",
      "text/plain": [
       "<Figure size 432x288 with 1 Axes>"
      ]
     },
     "metadata": {
      "needs_background": "light"
     },
     "output_type": "display_data"
    },
    {
     "data": {
      "image/png": "[encoded data removed]",
      "text/plain": [
       "<Figure size 432x288 with 1 Axes>"
      ]
     },
     "metadata": {
      "needs_background": "light"
     },
     "output_type": "display_data"
    },
    {
     "data": {
      "image/png": "[encoded data removed]",
      "text/plain": [
       "<Figure size 432x288 with 1 Axes>"
      ]
     },
     "metadata": {
      "needs_background": "light"
     },
     "output_type": "display_data"
    },
    {
     "data": {
      "image/png": "[encoded data removed]",
      "text/plain": [
       "<Figure size 432x288 with 1 Axes>"
      ]
     },
     "metadata": {
      "needs_background": "light"
     },
     "output_type": "display_data"
    },
    {
     "data": {
      "image/png": "[encoded data removed]",
      "text/plain": [
       "<Figure size 432x288 with 1 Axes>"
      ]
     },
     "metadata": {
      "needs_background": "light"
     },
     "output_type": "display_data"
    },
    {
     "data": {
      "image/png": "[encoded data removed]",
      "text/plain": [
       "<Figure size 432x288 with 1 Axes>"
      ]
     },
     "metadata": {
      "needs_background": "light"
     },
     "output_type": "display_data"
    },
    {
     "data": {
      "image/png": "[encoded data removed]",
      "text/plain": [
       "<Figure size 432x288 with 1 Axes>"
      ]
     },
     "metadata": {
      "needs_background": "light"
     },
     "output_type": "display_data"
    },
    {
     "data": {
      "image/png": "[encoded data removed]",
      "text/plain": [
       "<Figure size 432x288 with 1 Axes>"
      ]
     },
     "metadata": {
      "needs_background": "light"
     },
     "output_type": "display_data"
    },
    {
     "data": {
      "image/png": "[encoded data removed]",
      "text/plain": [
       "<Figure size 432x288 with 1 Axes>"
      ]
     },
     "metadata": {
      "needs_background": "light"
     },
     "output_type": "display_data"
    },
    {
     "data": {
      "image/png": "[encoded data removed]",
      "text/plain": [
       "<Figure size 432x288 with 1 Axes>"
      ]
     },
     "metadata": {
      "needs_background": "light"
     },
     "output_type": "display_data"
    },
    {
     "data": {
      "image/png": "[encoded data removed]",
      "text/plain": [
       "<Figure size 432x288 with 1 Axes>"
      ]
     },
     "metadata": {
      "needs_background": "light"
     },
     "output_type": "display_data"
    },
    {
     "data": {
      "image/png": "[encoded data removed]",
      "text/plain": [
       "<Figure size 432x288 with 1 Axes>"
      ]
     },
     "metadata": {
      "needs_background": "light"
     },
     "output_type": "display_data"
    },
    {
     "data": {
      "image/png": "[encoded data removed]",
      "text/plain": [
       "<Figure size 432x288 with 1 Axes>"
      ]
     },
     "metadata": {
      "needs_background": "light"
     },
     "output_type": "display_data"
    },
    {
     "data": {
      "image/png": "[encoded data removed]",
      "text/plain": [
       "<Figure size 432x288 with 1 Axes>"
      ]
     },
     "metadata": {
      "needs_background": "light"
     },
     "output_type": "display_data"
    },
    {
     "data": {
      "image/png": "[encoded data removed]",
      "text/plain": [
       "<Figure size 432x288 with 1 Axes>"
      ]
     },
     "metadata": {
      "needs_background": "light"
     },
     "output_type": "display_data"
    },
    {
     "data": {
      "image/png": "[encoded data removed]",
      "text/plain": [
       "<Figure size 432x288 with 1 Axes>"
      ]
     },
     "metadata": {
      "needs_background": "light"
     },
     "output_type": "display_data"
    },
    {
     "data": {
      "image/png": "[encoded data removed]",
      "text/plain": [
       "<Figure size 432x288 with 1 Axes>"
      ]
     },
     "metadata": {
      "needs_background": "light"
     },
     "output_type": "display_data"
    },
    {
     "data": {
      "image/png": "[encoded data removed]",
      "text/plain": [
       "<Figure size 432x288 with 1 Axes>"
      ]
     },
     "metadata": {
      "needs_background": "light"
     },
     "output_type": "display_data"
    },
    {
     "data": {
      "image/png": "[encoded data removed]",
      "text/plain": [
       "<Figure size 432x288 with 1 Axes>"
      ]
     },
     "metadata": {
      "needs_background": "light"
     },
     "output_type": "display_data"
    },
    {
     "data": {
      "image/png": "[encoded data removed]",
      "text/plain": [
       "<Figure size 432x288 with 1 Axes>"
      ]
     },
     "metadata": {
      "needs_background": "light"
     },
     "output_type": "display_data"
    },
    {
     "data": {
      "image/png": "[encoded data removed]",
      "text/plain": [
       "<Figure size 432x288 with 1 Axes>"
      ]
     },
     "metadata": {
      "needs_background": "light"
     },
     "output_type": "display_data"
    },
    {
     "data": {
      "image/png": "[encoded data removed]",
      "text/plain": [
       "<Figure size 432x288 with 1 Axes>"
      ]
     },
     "metadata": {
      "needs_background": "light"
     },
     "output_type": "display_data"
    },
    {
     "data": {
      "image/png": "[encoded data removed]",
      "text/plain": [
       "<Figure size 432x288 with 1 Axes>"
      ]
     },
     "metadata": {
      "needs_background": "light"
     },
     "output_type": "display_data"
    },
    {
     "data": {
      "image/png": "[encoded data removed]",
      "text/plain": [
       "<Figure size 432x288 with 1 Axes>"
      ]
     },
     "metadata": {
      "needs_background": "light"
     },
     "output_type": "display_data"
    },
    {
     "data": {
      "image/png": "[encoded data removed]",
      "text/plain": [
       "<Figure size 432x288 with 1 Axes>"
      ]
     },
     "metadata": {
      "needs_background": "light"
     },
     "output_type": "display_data"
    },
    {
     "data": {
      "image/png": "[encoded data removed]",
      "text/plain": [
       "<Figure size 432x288 with 1 Axes>"
      ]
     },
     "metadata": {
      "needs_background": "light"
     },
     "output_type": "display_data"
    },
    {
     "data": {
      "image/png": "[encoded data removed]",
      "text/plain": [
       "<Figure size 432x288 with 1 Axes>"
      ]
     },
     "metadata": {
      "needs_background": "light"
     },
     "output_type": "display_data"
    },
    {
     "data": {
      "image/png": "[encoded data removed]",
      "text/plain": [
       "<Figure size 432x288 with 1 Axes>"
      ]
     },
     "metadata": {
      "needs_background": "light"
     },
     "output_type": "display_data"
    },
    {
     "data": {
      "image/png": "[encoded data removed]",
      "text/plain": [
       "<Figure size 432x288 with 1 Axes>"
      ]
     },
     "metadata": {
      "needs_background": "light"
     },
     "output_type": "display_data"
    },
    {
     "data": {
      "image/png": "[encoded data removed]",
      "text/plain": [
       "<Figure size 432x288 with 1 Axes>"
      ]
     },
     "metadata": {
      "needs_background": "light"
     },
     "output_type": "display_data"
    },
    {
     "data": {
      "image/png": "[encoded data removed]",
      "text/plain": [
       "<Figure size 432x288 with 1 Axes>"
      ]
     },
     "metadata": {
      "needs_background": "light"
     },
     "output_type": "display_data"
    },
    {
     "data": {
      "image/png": "[encoded data removed]",
      "text/plain": [
       "<Figure size 432x288 with 1 Axes>"
      ]
     },
     "metadata": {
      "needs_background": "light"
     },
     "output_type": "display_data"
    },
    {
     "data": {
      "image/png": "[encoded data removed]",
      "text/plain": [
       "<Figure size 432x288 with 1 Axes>"
      ]
     },
     "metadata": {
      "needs_background": "light"
     },
     "output_type": "display_data"
    },
    {
     "data": {
      "image/png": "[encoded data removed]",
      "text/plain": [
       "<Figure size 432x288 with 1 Axes>"
      ]
     },
     "metadata": {
      "needs_background": "light"
     },
     "output_type": "display_data"
    },
    {
     "data": {
      "image/png": "[encoded data removed]",
      "text/plain": [
       "<Figure size 432x288 with 1 Axes>"
      ]
     },
     "metadata": {
      "needs_background": "light"
     },
     "output_type": "display_data"
    },
    {
     "data": {
      "image/png": "[encoded data removed]",
      "text/plain": [
       "<Figure size 432x288 with 1 Axes>"
      ]
     },
     "metadata": {
      "needs_background": "light"
     },
     "output_type": "display_data"
    },
    {
     "data": {
      "image/png": "[encoded data removed]",
      "text/plain": [
       "<Figure size 432x288 with 1 Axes>"
      ]
     },
     "metadata": {
      "needs_background": "light"
     },
     "output_type": "display_data"
    },
    {
     "data": {
      "image/png": "[encoded data removed]",
      "text/plain": [
       "<Figure size 432x288 with 1 Axes>"
      ]
     },
     "metadata": {
      "needs_background": "light"
     },
     "output_type": "display_data"
    },
    {
     "data": {
      "image/png": "[encoded data removed]",
      "text/plain": [
       "<Figure size 432x288 with 1 Axes>"
      ]
     },
     "metadata": {
      "needs_background": "light"
     },
     "output_type": "display_data"
    }
   ],
   "source": [
    "for i in range(40):\n",
    "    test = kde_codes.sample()#(random_state=i)\n",
    "    test = pca_codes.inverse_transform(test)\n",
    "    \n",
    "    \n",
    "    imshow_array(decoder.predict(test)[0][:, :, 0])\n",
    "    plt.show()"
   ]
  },
  {
   "cell_type": "markdown",
   "metadata": {},
   "source": [
    "## Подсчёт энтропии"
   ]
  },
  {
   "cell_type": "code",
   "execution_count": 176,
   "metadata": {},
   "outputs": [],
   "source": [
    "def entropy_monte_carlo(kde, N):\n",
    "    sum = 0.0\n",
    "    for i in range(1, N + 1):\n",
    "        sum += kde.score_samples(kde.sample())[0]\n",
    "        print(\"H: %f\" % (sum / i), end=\"\\r\")\n",
    "        \n",
    "    return sum / N"
   ]
  },
  {
   "cell_type": "code",
   "execution_count": 177,
   "metadata": {},
   "outputs": [
    {
     "name": "stdout",
     "output_type": "stream",
     "text": [
      "H: 13.858676\r"
     ]
    },
    {
     "data": {
      "text/plain": [
       "13.858675863794385"
      ]
     },
     "execution_count": 177,
     "metadata": {},
     "output_type": "execute_result"
    }
   ],
   "source": [
    "entropy_monte_carlo(kde_codes, 10000)"
   ]
  },
  {
   "cell_type": "code",
   "execution_count": 166,
   "metadata": {},
   "outputs": [],
   "source": [
    "def entropy_multivariate_normal(dimension, dispersion):\n",
    "    return 0.5 * dimension * (1 + np.log(2 * np.pi) + 0.5 * np.log(dispersion))"
   ]
  },
  {
   "cell_type": "code",
   "execution_count": 167,
   "metadata": {},
   "outputs": [
    {
     "data": {
      "text/plain": [
       "11.049039830006688"
      ]
     },
     "execution_count": 167,
     "metadata": {},
     "output_type": "execute_result"
    }
   ],
   "source": [
    "entropy_multivariate_normal(pca_codes_dim, kde_codes.get_params()['bandwidth'])"
   ]
  },
  {
   "cell_type": "code",
   "execution_count": null,
   "metadata": {},
   "outputs": [],
   "source": []
  }
 ],
 "metadata": {
  "accelerator": "TPU",
  "colab": {
   "collapsed_sections": [],
   "name": "MNIST.ipynb",
   "provenance": []
  },
  "kernelspec": {
   "display_name": "Python 3",
   "language": "python",
   "name": "python3"
  },
  "language_info": {
   "codemirror_mode": {
    "name": "ipython",
    "version": 3
   },
   "file_extension": ".py",
   "mimetype": "text/x-python",
   "name": "python",
   "nbconvert_exporter": "python",
   "pygments_lexer": "ipython3",
   "version": "3.8.2"
  },
  "widgets": {
   "application/vnd.jupyter.widget-state+json": {
    "149f532209d34329ae1c77c4f6b68760": {
     "model_module": "@jupyter-widgets/controls",
     "model_name": "VBoxModel",
     "state": {
      "_dom_classes": [
       "widget-interact"
      ],
      "_model_module": "@jupyter-widgets/controls",
      "_model_module_version": "1.5.0",
      "_model_name": "VBoxModel",
      "_view_count": null,
      "_view_module": "@jupyter-widgets/controls",
      "_view_module_version": "1.5.0",
      "_view_name": "VBoxView",
      "box_style": "",
      "children": [
       "IPY_MODEL_ff0b7b16524a44638108d9f56457cefd",
       "IPY_MODEL_30b020fccb0b49589c91d0307a781058",
       "IPY_MODEL_acdbb4614ca4435caa87feb22f468851",
       "IPY_MODEL_1fa732297801485b9abd9b6167a597b0",
       "IPY_MODEL_a16cfc70478c4d4d8e8a3dbd2d7483b1",
       "IPY_MODEL_82dc7be859bb4f28a8c7d46435e7855d",
       "IPY_MODEL_3cf62971426e468c8f5a34656096e880"
      ],
      "layout": "IPY_MODEL_726dad3de6ac45c3a26094fa0d012253"
     }
    },
    "15dbc373c4ae48c3baf5949f02323351": {
     "model_module": "@jupyter-widgets/controls",
     "model_name": "SliderStyleModel",
     "state": {
      "_model_module": "@jupyter-widgets/controls",
      "_model_module_version": "1.5.0",
      "_model_name": "SliderStyleModel",
      "_view_count": null,
      "_view_module": "@jupyter-widgets/base",
      "_view_module_version": "1.2.0",
      "_view_name": "StyleView",
      "description_width": "",
      "handle_color": null
     }
    },
    "1fa732297801485b9abd9b6167a597b0": {
     "model_module": "@jupyter-widgets/controls",
     "model_name": "FloatSliderModel",
     "state": {
      "_dom_classes": [],
      "_model_module": "@jupyter-widgets/controls",
      "_model_module_version": "1.5.0",
      "_model_name": "FloatSliderModel",
      "_view_count": null,
      "_view_module": "@jupyter-widgets/controls",
      "_view_module_version": "1.5.0",
      "_view_name": "FloatSliderView",
      "continuous_update": true,
      "description": "x4",
      "description_tooltip": null,
      "disabled": false,
      "layout": "IPY_MODEL_3afd894c69c549a4a10cb1e5dc73a648",
      "max": 1,
      "min": -1,
      "orientation": "horizontal",
      "readout": true,
      "readout_format": ".2f",
      "step": 0.01,
      "style": "IPY_MODEL_c0c6be9d255443cbb4d46c0d39bb5f00",
      "value": -0.34
     }
    },
    "30b020fccb0b49589c91d0307a781058": {
     "model_module": "@jupyter-widgets/controls",
     "model_name": "FloatSliderModel",
     "state": {
      "_dom_classes": [],
      "_model_module": "@jupyter-widgets/controls",
      "_model_module_version": "1.5.0",
      "_model_name": "FloatSliderModel",
      "_view_count": null,
      "_view_module": "@jupyter-widgets/controls",
      "_view_module_version": "1.5.0",
      "_view_name": "FloatSliderView",
      "continuous_update": true,
      "description": "x2",
      "description_tooltip": null,
      "disabled": false,
      "layout": "IPY_MODEL_7c18e9f5bdee471786c74406e2ee13ef",
      "max": 1,
      "min": -1,
      "orientation": "horizontal",
      "readout": true,
      "readout_format": ".2f",
      "step": 0.01,
      "style": "IPY_MODEL_9150744e925d46368e2b39112fee6a88",
      "value": 0.5
     }
    },
    "34563238d9a34a06a18f70fa214b3dfd": {
     "model_module": "@jupyter-widgets/base",
     "model_name": "LayoutModel",
     "state": {
      "_model_module": "@jupyter-widgets/base",
      "_model_module_version": "1.2.0",
      "_model_name": "LayoutModel",
      "_view_count": null,
      "_view_module": "@jupyter-widgets/base",
      "_view_module_version": "1.2.0",
      "_view_name": "LayoutView",
      "align_content": null,
      "align_items": null,
      "align_self": null,
      "border": null,
      "bottom": null,
      "display": null,
      "flex": null,
      "flex_flow": null,
      "grid_area": null,
      "grid_auto_columns": null,
      "grid_auto_flow": null,
      "grid_auto_rows": null,
      "grid_column": null,
      "grid_gap": null,
      "grid_row": null,
      "grid_template_areas": null,
      "grid_template_columns": null,
      "grid_template_rows": null,
      "height": null,
      "justify_content": null,
      "justify_items": null,
      "left": null,
      "margin": null,
      "max_height": null,
      "max_width": null,
      "min_height": null,
      "min_width": null,
      "object_fit": null,
      "object_position": null,
      "order": null,
      "overflow": null,
      "overflow_x": null,
      "overflow_y": null,
      "padding": null,
      "right": null,
      "top": null,
      "visibility": null,
      "width": null
     }
    },
    "3afd894c69c549a4a10cb1e5dc73a648": {
     "model_module": "@jupyter-widgets/base",
     "model_name": "LayoutModel",
     "state": {
      "_model_module": "@jupyter-widgets/base",
      "_model_module_version": "1.2.0",
      "_model_name": "LayoutModel",
      "_view_count": null,
      "_view_module": "@jupyter-widgets/base",
      "_view_module_version": "1.2.0",
      "_view_name": "LayoutView",
      "align_content": null,
      "align_items": null,
      "align_self": null,
      "border": null,
      "bottom": null,
      "display": null,
      "flex": null,
      "flex_flow": null,
      "grid_area": null,
      "grid_auto_columns": null,
      "grid_auto_flow": null,
      "grid_auto_rows": null,
      "grid_column": null,
      "grid_gap": null,
      "grid_row": null,
      "grid_template_areas": null,
      "grid_template_columns": null,
      "grid_template_rows": null,
      "height": null,
      "justify_content": null,
      "justify_items": null,
      "left": null,
      "margin": null,
      "max_height": null,
      "max_width": null,
      "min_height": null,
      "min_width": null,
      "object_fit": null,
      "object_position": null,
      "order": null,
      "overflow": null,
      "overflow_x": null,
      "overflow_y": null,
      "padding": null,
      "right": null,
      "top": null,
      "visibility": null,
      "width": null
     }
    },
    "3cf62971426e468c8f5a34656096e880": {
     "model_module": "@jupyter-widgets/output",
     "model_name": "OutputModel",
     "state": {
      "_dom_classes": [],
      "_model_module": "@jupyter-widgets/output",
      "_model_module_version": "1.0.0",
      "_model_name": "OutputModel",
      "_view_count": null,
      "_view_module": "@jupyter-widgets/output",
      "_view_module_version": "1.0.0",
      "_view_name": "OutputView",
      "layout": "IPY_MODEL_34563238d9a34a06a18f70fa214b3dfd",
      "msg_id": "",
      "outputs": [
       {
        "image/png": "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\n",
        "metadata": {
         "needs_background": "light",
         "tags": []
        },
        "output_type": "display_data",
        "text/plain": "<Figure size 432x288 with 1 Axes>"
       }
      ]
     }
    },
    "4548d7ddc0f64f6cb2e1103601f58fc2": {
     "model_module": "@jupyter-widgets/controls",
     "model_name": "SliderStyleModel",
     "state": {
      "_model_module": "@jupyter-widgets/controls",
      "_model_module_version": "1.5.0",
      "_model_name": "SliderStyleModel",
      "_view_count": null,
      "_view_module": "@jupyter-widgets/base",
      "_view_module_version": "1.2.0",
      "_view_name": "StyleView",
      "description_width": "",
      "handle_color": null
     }
    },
    "47c7c4b0c81a4cc4b78e76ae7ca0ad27": {
     "model_module": "@jupyter-widgets/controls",
     "model_name": "SliderStyleModel",
     "state": {
      "_model_module": "@jupyter-widgets/controls",
      "_model_module_version": "1.5.0",
      "_model_name": "SliderStyleModel",
      "_view_count": null,
      "_view_module": "@jupyter-widgets/base",
      "_view_module_version": "1.2.0",
      "_view_name": "StyleView",
      "description_width": "",
      "handle_color": null
     }
    },
    "5e2bb563827a4c3aba17eef4db604773": {
     "model_module": "@jupyter-widgets/base",
     "model_name": "LayoutModel",
     "state": {
      "_model_module": "@jupyter-widgets/base",
      "_model_module_version": "1.2.0",
      "_model_name": "LayoutModel",
      "_view_count": null,
      "_view_module": "@jupyter-widgets/base",
      "_view_module_version": "1.2.0",
      "_view_name": "LayoutView",
      "align_content": null,
      "align_items": null,
      "align_self": null,
      "border": null,
      "bottom": null,
      "display": null,
      "flex": null,
      "flex_flow": null,
      "grid_area": null,
      "grid_auto_columns": null,
      "grid_auto_flow": null,
      "grid_auto_rows": null,
      "grid_column": null,
      "grid_gap": null,
      "grid_row": null,
      "grid_template_areas": null,
      "grid_template_columns": null,
      "grid_template_rows": null,
      "height": null,
      "justify_content": null,
      "justify_items": null,
      "left": null,
      "margin": null,
      "max_height": null,
      "max_width": null,
      "min_height": null,
      "min_width": null,
      "object_fit": null,
      "object_position": null,
      "order": null,
      "overflow": null,
      "overflow_x": null,
      "overflow_y": null,
      "padding": null,
      "right": null,
      "top": null,
      "visibility": null,
      "width": null
     }
    },
    "6b1dc663fef3412ea45d5ac1b40262e3": {
     "model_module": "@jupyter-widgets/base",
     "model_name": "LayoutModel",
     "state": {
      "_model_module": "@jupyter-widgets/base",
      "_model_module_version": "1.2.0",
      "_model_name": "LayoutModel",
      "_view_count": null,
      "_view_module": "@jupyter-widgets/base",
      "_view_module_version": "1.2.0",
      "_view_name": "LayoutView",
      "align_content": null,
      "align_items": null,
      "align_self": null,
      "border": null,
      "bottom": null,
      "display": null,
      "flex": null,
      "flex_flow": null,
      "grid_area": null,
      "grid_auto_columns": null,
      "grid_auto_flow": null,
      "grid_auto_rows": null,
      "grid_column": null,
      "grid_gap": null,
      "grid_row": null,
      "grid_template_areas": null,
      "grid_template_columns": null,
      "grid_template_rows": null,
      "height": null,
      "justify_content": null,
      "justify_items": null,
      "left": null,
      "margin": null,
      "max_height": null,
      "max_width": null,
      "min_height": null,
      "min_width": null,
      "object_fit": null,
      "object_position": null,
      "order": null,
      "overflow": null,
      "overflow_x": null,
      "overflow_y": null,
      "padding": null,
      "right": null,
      "top": null,
      "visibility": null,
      "width": null
     }
    },
    "726dad3de6ac45c3a26094fa0d012253": {
     "model_module": "@jupyter-widgets/base",
     "model_name": "LayoutModel",
     "state": {
      "_model_module": "@jupyter-widgets/base",
      "_model_module_version": "1.2.0",
      "_model_name": "LayoutModel",
      "_view_count": null,
      "_view_module": "@jupyter-widgets/base",
      "_view_module_version": "1.2.0",
      "_view_name": "LayoutView",
      "align_content": null,
      "align_items": null,
      "align_self": null,
      "border": null,
      "bottom": null,
      "display": null,
      "flex": null,
      "flex_flow": null,
      "grid_area": null,
      "grid_auto_columns": null,
      "grid_auto_flow": null,
      "grid_auto_rows": null,
      "grid_column": null,
      "grid_gap": null,
      "grid_row": null,
      "grid_template_areas": null,
      "grid_template_columns": null,
      "grid_template_rows": null,
      "height": null,
      "justify_content": null,
      "justify_items": null,
      "left": null,
      "margin": null,
      "max_height": null,
      "max_width": null,
      "min_height": null,
      "min_width": null,
      "object_fit": null,
      "object_position": null,
      "order": null,
      "overflow": null,
      "overflow_x": null,
      "overflow_y": null,
      "padding": null,
      "right": null,
      "top": null,
      "visibility": null,
      "width": null
     }
    },
    "7c18e9f5bdee471786c74406e2ee13ef": {
     "model_module": "@jupyter-widgets/base",
     "model_name": "LayoutModel",
     "state": {
      "_model_module": "@jupyter-widgets/base",
      "_model_module_version": "1.2.0",
      "_model_name": "LayoutModel",
      "_view_count": null,
      "_view_module": "@jupyter-widgets/base",
      "_view_module_version": "1.2.0",
      "_view_name": "LayoutView",
      "align_content": null,
      "align_items": null,
      "align_self": null,
      "border": null,
      "bottom": null,
      "display": null,
      "flex": null,
      "flex_flow": null,
      "grid_area": null,
      "grid_auto_columns": null,
      "grid_auto_flow": null,
      "grid_auto_rows": null,
      "grid_column": null,
      "grid_gap": null,
      "grid_row": null,
      "grid_template_areas": null,
      "grid_template_columns": null,
      "grid_template_rows": null,
      "height": null,
      "justify_content": null,
      "justify_items": null,
      "left": null,
      "margin": null,
      "max_height": null,
      "max_width": null,
      "min_height": null,
      "min_width": null,
      "object_fit": null,
      "object_position": null,
      "order": null,
      "overflow": null,
      "overflow_x": null,
      "overflow_y": null,
      "padding": null,
      "right": null,
      "top": null,
      "visibility": null,
      "width": null
     }
    },
    "82dc7be859bb4f28a8c7d46435e7855d": {
     "model_module": "@jupyter-widgets/controls",
     "model_name": "FloatSliderModel",
     "state": {
      "_dom_classes": [],
      "_model_module": "@jupyter-widgets/controls",
      "_model_module_version": "1.5.0",
      "_model_name": "FloatSliderModel",
      "_view_count": null,
      "_view_module": "@jupyter-widgets/controls",
      "_view_module_version": "1.5.0",
      "_view_name": "FloatSliderView",
      "continuous_update": true,
      "description": "x6",
      "description_tooltip": null,
      "disabled": false,
      "layout": "IPY_MODEL_5e2bb563827a4c3aba17eef4db604773",
      "max": 1,
      "min": -1,
      "orientation": "horizontal",
      "readout": true,
      "readout_format": ".2f",
      "step": 0.01,
      "style": "IPY_MODEL_e41488f43214439cbcf967654e3c8710",
      "value": 0.04
     }
    },
    "9150744e925d46368e2b39112fee6a88": {
     "model_module": "@jupyter-widgets/controls",
     "model_name": "SliderStyleModel",
     "state": {
      "_model_module": "@jupyter-widgets/controls",
      "_model_module_version": "1.5.0",
      "_model_name": "SliderStyleModel",
      "_view_count": null,
      "_view_module": "@jupyter-widgets/base",
      "_view_module_version": "1.2.0",
      "_view_name": "StyleView",
      "description_width": "",
      "handle_color": null
     }
    },
    "940dec7fd0e24156a24d7a6d697e40b7": {
     "model_module": "@jupyter-widgets/base",
     "model_name": "LayoutModel",
     "state": {
      "_model_module": "@jupyter-widgets/base",
      "_model_module_version": "1.2.0",
      "_model_name": "LayoutModel",
      "_view_count": null,
      "_view_module": "@jupyter-widgets/base",
      "_view_module_version": "1.2.0",
      "_view_name": "LayoutView",
      "align_content": null,
      "align_items": null,
      "align_self": null,
      "border": null,
      "bottom": null,
      "display": null,
      "flex": null,
      "flex_flow": null,
      "grid_area": null,
      "grid_auto_columns": null,
      "grid_auto_flow": null,
      "grid_auto_rows": null,
      "grid_column": null,
      "grid_gap": null,
      "grid_row": null,
      "grid_template_areas": null,
      "grid_template_columns": null,
      "grid_template_rows": null,
      "height": null,
      "justify_content": null,
      "justify_items": null,
      "left": null,
      "margin": null,
      "max_height": null,
      "max_width": null,
      "min_height": null,
      "min_width": null,
      "object_fit": null,
      "object_position": null,
      "order": null,
      "overflow": null,
      "overflow_x": null,
      "overflow_y": null,
      "padding": null,
      "right": null,
      "top": null,
      "visibility": null,
      "width": null
     }
    },
    "a16cfc70478c4d4d8e8a3dbd2d7483b1": {
     "model_module": "@jupyter-widgets/controls",
     "model_name": "FloatSliderModel",
     "state": {
      "_dom_classes": [],
      "_model_module": "@jupyter-widgets/controls",
      "_model_module_version": "1.5.0",
      "_model_name": "FloatSliderModel",
      "_view_count": null,
      "_view_module": "@jupyter-widgets/controls",
      "_view_module_version": "1.5.0",
      "_view_name": "FloatSliderView",
      "continuous_update": true,
      "description": "x5",
      "description_tooltip": null,
      "disabled": false,
      "layout": "IPY_MODEL_ac62700fb9264c81b2461dc8a6272277",
      "max": 1,
      "min": -1,
      "orientation": "horizontal",
      "readout": true,
      "readout_format": ".2f",
      "step": 0.01,
      "style": "IPY_MODEL_4548d7ddc0f64f6cb2e1103601f58fc2",
      "value": 0.11
     }
    },
    "ac62700fb9264c81b2461dc8a6272277": {
     "model_module": "@jupyter-widgets/base",
     "model_name": "LayoutModel",
     "state": {
      "_model_module": "@jupyter-widgets/base",
      "_model_module_version": "1.2.0",
      "_model_name": "LayoutModel",
      "_view_count": null,
      "_view_module": "@jupyter-widgets/base",
      "_view_module_version": "1.2.0",
      "_view_name": "LayoutView",
      "align_content": null,
      "align_items": null,
      "align_self": null,
      "border": null,
      "bottom": null,
      "display": null,
      "flex": null,
      "flex_flow": null,
      "grid_area": null,
      "grid_auto_columns": null,
      "grid_auto_flow": null,
      "grid_auto_rows": null,
      "grid_column": null,
      "grid_gap": null,
      "grid_row": null,
      "grid_template_areas": null,
      "grid_template_columns": null,
      "grid_template_rows": null,
      "height": null,
      "justify_content": null,
      "justify_items": null,
      "left": null,
      "margin": null,
      "max_height": null,
      "max_width": null,
      "min_height": null,
      "min_width": null,
      "object_fit": null,
      "object_position": null,
      "order": null,
      "overflow": null,
      "overflow_x": null,
      "overflow_y": null,
      "padding": null,
      "right": null,
      "top": null,
      "visibility": null,
      "width": null
     }
    },
    "acdbb4614ca4435caa87feb22f468851": {
     "model_module": "@jupyter-widgets/controls",
     "model_name": "FloatSliderModel",
     "state": {
      "_dom_classes": [],
      "_model_module": "@jupyter-widgets/controls",
      "_model_module_version": "1.5.0",
      "_model_name": "FloatSliderModel",
      "_view_count": null,
      "_view_module": "@jupyter-widgets/controls",
      "_view_module_version": "1.5.0",
      "_view_name": "FloatSliderView",
      "continuous_update": true,
      "description": "x3",
      "description_tooltip": null,
      "disabled": false,
      "layout": "IPY_MODEL_6b1dc663fef3412ea45d5ac1b40262e3",
      "max": 1,
      "min": -1,
      "orientation": "horizontal",
      "readout": true,
      "readout_format": ".2f",
      "step": 0.01,
      "style": "IPY_MODEL_15dbc373c4ae48c3baf5949f02323351",
      "value": 0.19
     }
    },
    "c0c6be9d255443cbb4d46c0d39bb5f00": {
     "model_module": "@jupyter-widgets/controls",
     "model_name": "SliderStyleModel",
     "state": {
      "_model_module": "@jupyter-widgets/controls",
      "_model_module_version": "1.5.0",
      "_model_name": "SliderStyleModel",
      "_view_count": null,
      "_view_module": "@jupyter-widgets/base",
      "_view_module_version": "1.2.0",
      "_view_name": "StyleView",
      "description_width": "",
      "handle_color": null
     }
    },
    "e41488f43214439cbcf967654e3c8710": {
     "model_module": "@jupyter-widgets/controls",
     "model_name": "SliderStyleModel",
     "state": {
      "_model_module": "@jupyter-widgets/controls",
      "_model_module_version": "1.5.0",
      "_model_name": "SliderStyleModel",
      "_view_count": null,
      "_view_module": "@jupyter-widgets/base",
      "_view_module_version": "1.2.0",
      "_view_name": "StyleView",
      "description_width": "",
      "handle_color": null
     }
    },
    "ff0b7b16524a44638108d9f56457cefd": {
     "model_module": "@jupyter-widgets/controls",
     "model_name": "FloatSliderModel",
     "state": {
      "_dom_classes": [],
      "_model_module": "@jupyter-widgets/controls",
      "_model_module_version": "1.5.0",
      "_model_name": "FloatSliderModel",
      "_view_count": null,
      "_view_module": "@jupyter-widgets/controls",
      "_view_module_version": "1.5.0",
      "_view_name": "FloatSliderView",
      "continuous_update": true,
      "description": "x1",
      "description_tooltip": null,
      "disabled": false,
      "layout": "IPY_MODEL_940dec7fd0e24156a24d7a6d697e40b7",
      "max": 1,
      "min": -1,
      "orientation": "horizontal",
      "readout": true,
      "readout_format": ".2f",
      "step": 0.01,
      "style": "IPY_MODEL_47c7c4b0c81a4cc4b78e76ae7ca0ad27",
      "value": 0.47
     }
    }
   }
  }
 },
 "nbformat": 4,
 "nbformat_minor": 1
}
