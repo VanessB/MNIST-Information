{
 "cells": [
  {
   "cell_type": "markdown",
   "metadata": {},
   "source": [
    "# Преамбула"
   ]
  },
  {
   "cell_type": "code",
   "execution_count": null,
   "metadata": {
    "colab": {
     "base_uri": "https://localhost:8080/",
     "height": 34
    },
    "colab_type": "code",
    "id": "3hnJFp2UClXb",
    "outputId": "089e5741-4a37-4133-d62a-cc29748e212f"
   },
   "outputs": [],
   "source": [
    "import tensorflow.compat.v2 as tf\n",
    "import tensorflow_datasets as tfds\n",
    "\n",
    "tfds.disable_progress_bar()\n",
    "tf.enable_v2_behavior()\n",
    "\n",
    "print(tf.__version__)\n",
    "print(\"Num GPUs Available: \", len(tf.config.experimental.list_physical_devices('GPU')))\n",
    "tf.config.experimental.list_physical_devices()"
   ]
  },
  {
   "cell_type": "code",
   "execution_count": null,
   "metadata": {},
   "outputs": [],
   "source": [
    "#tf.debugging.set_log_device_placement(True)\n",
    "\n",
    "# Place tensors on the CPU\n",
    "#with tf.device('/GPU:0'):\n",
    "#    a = tf.constant([[1.0, 2.0, 3.0], [4.0, 5.0, 6.0]])\n",
    "#    b = tf.constant([[1.0, 2.0], [3.0, 4.0], [5.0, 6.0]])\n",
    "#    c = tf.matmul(a, b)\n",
    "    \n",
    "#print(c)"
   ]
  },
  {
   "cell_type": "code",
   "execution_count": null,
   "metadata": {},
   "outputs": [],
   "source": [
    "import numpy as np\n",
    "import matplotlib.pyplot as plt\n",
    "import copy"
   ]
  },
  {
   "cell_type": "code",
   "execution_count": null,
   "metadata": {},
   "outputs": [],
   "source": [
    "from sklearn.neighbors import KernelDensity\n",
    "from sklearn.decomposition import PCA\n",
    "from sklearn.preprocessing import StandardScaler\n",
    "from sklearn.model_selection import GridSearchCV"
   ]
  },
  {
   "cell_type": "code",
   "execution_count": null,
   "metadata": {},
   "outputs": [],
   "source": [
    "from joblib import Parallel, delayed"
   ]
  },
  {
   "cell_type": "code",
   "execution_count": null,
   "metadata": {
    "colab": {},
    "colab_type": "code",
    "id": "75r-hyKgEr5Q"
   },
   "outputs": [],
   "source": [
    "def normalize_img(image, label):\n",
    "    \"\"\"Нормализация изображений: `uint8` -> `float32`.\"\"\"\n",
    "    return tf.cast(image, tf.float32) / 255.0, label"
   ]
  },
  {
   "cell_type": "code",
   "execution_count": null,
   "metadata": {
    "colab": {},
    "colab_type": "code",
    "id": "MnhwOb8fnqO3"
   },
   "outputs": [],
   "source": [
    "def crop_pixels(x):\n",
    "    \"\"\"Обрезание значений пикселей нормированного изображения.\"\"\"\n",
    "    return min(1.0, max(0.0, x))"
   ]
  },
  {
   "cell_type": "code",
   "execution_count": null,
   "metadata": {
    "colab": {},
    "colab_type": "code",
    "id": "tmp5VGplSSL1"
   },
   "outputs": [],
   "source": [
    "def imshow_array(array):\n",
    "    \"\"\"Отображение массива нормированных пикселей.\"\"\"\n",
    "    plt.axis('off')\n",
    "    plt.imshow((255.0 * array).astype(np.uint8), cmap=plt.get_cmap(\"gray\"), vmin=0, vmax=255)"
   ]
  },
  {
   "cell_type": "code",
   "execution_count": null,
   "metadata": {
    "colab": {},
    "colab_type": "code",
    "id": "20Ei3W6MbKv-"
   },
   "outputs": [],
   "source": [
    "def dataset_Y_to_X(X, Y):\n",
    "    \"\"\"Поменять у датасета пары (X, Y) на (X, X) (нужно, например, для обучения автоэнкодера).\"\"\"\n",
    "    return X, X"
   ]
  },
  {
   "cell_type": "code",
   "execution_count": null,
   "metadata": {},
   "outputs": [],
   "source": [
    "def similarity_loss(y_true, y_pred):\n",
    "    \"\"\"Функция потерь, которая показала результаты лучше, чем MAE.\"\"\"\n",
    "    delta = tf.keras.backend.abs(y_true - y_pred)\n",
    "    squared = tf.keras.backend.square(y_true - y_pred)\n",
    "    return tf.keras.backend.mean(delta - 0.5 * squared, axis=-1)"
   ]
  },
  {
   "cell_type": "code",
   "execution_count": null,
   "metadata": {},
   "outputs": [],
   "source": [
    "mnist_shape = (28, 28, 1)"
   ]
  },
  {
   "cell_type": "code",
   "execution_count": null,
   "metadata": {
    "colab": {},
    "colab_type": "code",
    "id": "lxesrZsITN5Z"
   },
   "outputs": [],
   "source": [
    "(ds_full, _), ds_info = tfds.load(\n",
    "    'mnist',\n",
    "    split=['train', 'test'],\n",
    "    shuffle_files=True,\n",
    "    as_supervised=True,\n",
    "    with_info=True,\n",
    ")"
   ]
  },
  {
   "cell_type": "code",
   "execution_count": null,
   "metadata": {
    "colab": {},
    "colab_type": "code",
    "id": "b0qdbiqwTVml"
   },
   "outputs": [],
   "source": [
    "ds_full = ds_full.map(\n",
    "    normalize_img, num_parallel_calls=tf.data.experimental.AUTOTUNE)\n",
    "#ds_full = ds_full.batch(1)\n",
    "#ds_full = ds_full.cache()\n",
    "#ds_full = ds_full.prefetch(tf.data.experimental.AUTOTUNE)"
   ]
  },
  {
   "cell_type": "markdown",
   "metadata": {
    "colab_type": "text",
    "id": "tZ2uHSGPFUr5"
   },
   "source": [
    "# Классификатор"
   ]
  },
  {
   "cell_type": "markdown",
   "metadata": {
    "colab_type": "text",
    "id": "Yz2-M8-vEh0s"
   },
   "source": [
    "## Получение датасета MNIST и создание тренировочных и тестовых выборок"
   ]
  },
  {
   "cell_type": "code",
   "execution_count": null,
   "metadata": {
    "colab": {},
    "colab_type": "code",
    "id": "wFNXe942EqMH"
   },
   "outputs": [],
   "source": [
    "(ds_train, ds_test), ds_info = tfds.load(\n",
    "    'mnist',\n",
    "    split=['train', 'test'],\n",
    "    shuffle_files=True,\n",
    "    as_supervised=True,\n",
    "    with_info=True,\n",
    ")"
   ]
  },
  {
   "cell_type": "markdown",
   "metadata": {
    "colab_type": "text",
    "id": "LW-8orFJFIai"
   },
   "source": [
    "### Тренировочный набор"
   ]
  },
  {
   "cell_type": "code",
   "execution_count": null,
   "metadata": {
    "colab": {},
    "colab_type": "code",
    "id": "mKP6e2tyFAK2"
   },
   "outputs": [],
   "source": [
    "ds_train = ds_train.map(\n",
    "    normalize_img, num_parallel_calls=tf.data.experimental.AUTOTUNE)\n",
    "ds_train = ds_train.cache()\n",
    "ds_train = ds_train.shuffle(ds_info.splits['train'].num_examples)\n",
    "ds_train = ds_train.batch(128)\n",
    "ds_train = ds_train.prefetch(tf.data.experimental.AUTOTUNE)"
   ]
  },
  {
   "cell_type": "markdown",
   "metadata": {
    "colab_type": "text",
    "id": "YKAwG2LPFNWN"
   },
   "source": [
    "### Тестовый набор"
   ]
  },
  {
   "cell_type": "code",
   "execution_count": null,
   "metadata": {
    "colab": {},
    "colab_type": "code",
    "id": "diD96iq7FLvC"
   },
   "outputs": [],
   "source": [
    "ds_test = ds_test.map(\n",
    "    normalize_img, num_parallel_calls=tf.data.experimental.AUTOTUNE)\n",
    "ds_test = ds_test.batch(128)\n",
    "ds_test = ds_test.cache()\n",
    "ds_test = ds_test.prefetch(tf.data.experimental.AUTOTUNE)"
   ]
  },
  {
   "cell_type": "markdown",
   "metadata": {},
   "source": [
    "## Модель"
   ]
  },
  {
   "cell_type": "code",
   "execution_count": null,
   "metadata": {
    "colab": {},
    "colab_type": "code",
    "id": "simwtqfVFSb4"
   },
   "outputs": [],
   "source": [
    "def define_classifier(shape_input):\n",
    "    # Инициализация весов.\n",
    "    init = tf.keras.initializers.RandomNormal(stddev = 0.02)\n",
    "\n",
    "    # Входные данные генератора / выборки.\n",
    "    input_layer = tf.keras.layers.Input(shape_input)\n",
    "    next_layer = input_layer\n",
    "\n",
    "    # 1 блок слоёв.\n",
    "    next_layer = tf.keras.layers.GaussianNoise(0.1)(input_layer)\n",
    "    next_layer = tf.keras.layers.Conv2D(filters = 4, kernel_size = (3, 3), strides = (1, 1), padding = 'same', kernel_initializer = init)(next_layer)\n",
    "    next_layer = tf.keras.layers.BatchNormalization()(next_layer)\n",
    "    next_layer = tf.keras.layers.LeakyReLU(alpha=0.2)(next_layer)\n",
    "    #next_layer = tf.keras.layers.Activation(tf.keras.activations.tanh)(next_layer)\n",
    "    #next_layer = tf.keras.layers.Dropout(0.2)(next_layer)\n",
    "    #next_layer = tf.keras.layers.SpatialDropout2D(0.1)(next_layer)\n",
    "    next_layer = tf.keras.layers.MaxPooling2D(pool_size = (2, 2), padding = 'same')(next_layer)\n",
    "    #next_layer = tf.keras.layers.GaussianNoise(0.1)(next_layer)\n",
    "\n",
    "    output_layer_1 = tf.keras.layers.Activation(tf.keras.activations.sigmoid)(next_layer)\n",
    "\n",
    "    # 2 блок слоёв.\n",
    "    #next_layer = tf.keras.layers.GaussianNoise(0.1)(input_layer)\n",
    "    next_layer = tf.keras.layers.Conv2D(filters = 8, kernel_size = (3, 3), strides = (1, 1), padding = 'same', kernel_initializer = init)(next_layer)\n",
    "    next_layer = tf.keras.layers.BatchNormalization()(next_layer)\n",
    "    next_layer = tf.keras.layers.LeakyReLU(alpha=0.2)(next_layer)\n",
    "    #next_layer = tf.keras.layers.Activation(tf.keras.activations.tanh)(next_layer)\n",
    "    next_layer = tf.keras.layers.Dropout(0.1)(next_layer)\n",
    "    #next_layer = tf.keras.layers.SpatialDropout2D(0.05)(next_layer)\n",
    "    next_layer = tf.keras.layers.MaxPooling2D(pool_size = (2, 2), padding = 'same')(next_layer)\n",
    "\n",
    "    output_layer_2 = tf.keras.layers.Activation(tf.keras.activations.sigmoid)(next_layer)\n",
    "\n",
    "    # 3 блок слоёв.\n",
    "    #next_layer = tf.keras.layers.GaussianNoise(0.1)(input_layer)\n",
    "    next_layer = tf.keras.layers.Conv2D(filters = 16, kernel_size = (3, 3), strides = (1, 1), padding = 'same', kernel_initializer = init)(next_layer)\n",
    "    next_layer = tf.keras.layers.BatchNormalization()(next_layer)\n",
    "    next_layer = tf.keras.layers.LeakyReLU(alpha=0.2)(next_layer)\n",
    "    #next_layer = tf.keras.layers.Activation(tf.keras.activations.tanh)(next_layer)\n",
    "    next_layer = tf.keras.layers.Dropout(0.2)(next_layer)\n",
    "    #next_layer = tf.keras.layers.SpatialDropout2D(0.2)(next_layer)\n",
    "    next_layer = tf.keras.layers.MaxPooling2D(pool_size = (2, 2), padding = 'same')(next_layer)\n",
    "\n",
    "    output_layer_3 = tf.keras.layers.Activation(tf.keras.activations.sigmoid)(next_layer)\n",
    "\n",
    "    # Вывод.\n",
    "    next_layer = tf.keras.layers.Flatten()(next_layer)\n",
    "    next_layer = tf.keras.layers.Dense(10)(next_layer)\n",
    "    output_layer = tf.keras.layers.Activation('softmax')(next_layer)\n",
    "\n",
    "    # Модель.\n",
    "    model = tf.keras.models.Model(input_layer, output_layer)\n",
    "    debug_model = tf.keras.models.Model([input_layer], [output_layer_1, output_layer_2, output_layer_3])\n",
    "\n",
    "    # Компиляция модели.\n",
    "    opt = tf.keras.optimizers.Adam(lr = 0.001)\n",
    "    model.compile(loss = 'sparse_categorical_crossentropy', optimizer = opt, loss_weights = [1.0], metrics=['accuracy'])\n",
    "    return model, debug_model"
   ]
  },
  {
   "cell_type": "code",
   "execution_count": null,
   "metadata": {
    "colab": {
     "base_uri": "https://localhost:8080/",
     "height": 1000
    },
    "colab_type": "code",
    "id": "e3EIdH_MJCQA",
    "outputId": "b7836641-b578-4939-b95b-a669f60e57f9"
   },
   "outputs": [],
   "source": [
    "classifier, debug_classifier = define_classifier(mnist_shape)\n",
    "# Сводка по модели.\n",
    "classifier.summary()\n",
    "# Отрисовка модели.\n",
    "#tf.keras.utils.plot_model(classifier, show_shapes = True, show_layer_names = True)"
   ]
  },
  {
   "cell_type": "code",
   "execution_count": null,
   "metadata": {
    "colab": {
     "base_uri": "https://localhost:8080/",
     "height": 243
    },
    "colab_type": "code",
    "id": "zGI4wbeaMH3H",
    "outputId": "778a590d-1b29-45ae-b28a-a8354df5dd5f"
   },
   "outputs": [],
   "source": [
    "classifier.fit(\n",
    "    ds_train,\n",
    "    epochs=6,\n",
    "    validation_data=ds_test,\n",
    ")"
   ]
  },
  {
   "cell_type": "code",
   "execution_count": null,
   "metadata": {},
   "outputs": [],
   "source": [
    "classifier.save('./models/classifier/classifier.h5')\n",
    "debug_classifier.save('./models/classifier/debug_classifier.h5')"
   ]
  },
  {
   "cell_type": "markdown",
   "metadata": {
    "colab_type": "text",
    "id": "vuFCuAwMTLbJ"
   },
   "source": [
    "### Визуальная проверка"
   ]
  },
  {
   "cell_type": "code",
   "execution_count": null,
   "metadata": {
    "colab": {
     "base_uri": "https://localhost:8080/",
     "height": 1000
    },
    "colab_type": "code",
    "id": "bYR4VDG25sqp",
    "outputId": "5dca7a55-c6ba-488c-a4cb-5854aea6517a"
   },
   "outputs": [],
   "source": [
    "mnist_example = ds_full.take(3)\n",
    "for sample in mnist_example:\n",
    "    image, label = sample[0].numpy(), sample[1].numpy()\n",
    "    imshow_array(image[:, :, 0])\n",
    "    plt.show()\n",
    "    print(\"Label: %d\" % label)\n",
    "\n",
    "    # Предсказание.\n",
    "    print(classifier.predict(np.array([image]))[0])\n",
    "\n",
    "    # Отрисовка слоёв.\n",
    "    debug = debug_classifier.predict(np.array([image]))\n",
    "    for output in debug:\n",
    "        for element in output:\n",
    "            element = np.swapaxes(element, 0, 2)\n",
    "            element = np.swapaxes(element, 1, 2)\n",
    "\n",
    "            i = 0\n",
    "            n = len(element)\n",
    "            for filter in element:\n",
    "                plt.subplot(1, n, 1 + i)\n",
    "                imshow_array(filter)\n",
    "                i += 1\n",
    "\n",
    "            plt.show()"
   ]
  },
  {
   "cell_type": "markdown",
   "metadata": {
    "colab_type": "text",
    "id": "dLO-jEOpQRF8"
   },
   "source": [
    "# Kernel density"
   ]
  },
  {
   "cell_type": "markdown",
   "metadata": {
    "colab_type": "text",
    "id": "kMURb69sT9i7"
   },
   "source": [
    "#### Полный датасет без разбиения по комплектам"
   ]
  },
  {
   "cell_type": "code",
   "execution_count": null,
   "metadata": {
    "colab": {},
    "colab_type": "code",
    "id": "sy0SgDYiQUXB"
   },
   "outputs": [],
   "source": [
    "samples = list(ds_full.take(-1))\n",
    "images = [sample[0].numpy().reshape(28,28) for sample in samples]\n",
    "labels = [sample[1].numpy() for sample in samples]\n",
    "\n",
    "images_vectors = [image.reshape(28*28) for image in images]"
   ]
  },
  {
   "cell_type": "markdown",
   "metadata": {
    "colab_type": "text",
    "id": "Jctxg3sxUQl6"
   },
   "source": [
    "#### PCA-преобразование"
   ]
  },
  {
   "cell_type": "code",
   "execution_count": null,
   "metadata": {
    "colab": {},
    "colab_type": "code",
    "id": "dMSlnZFxR_S8"
   },
   "outputs": [],
   "source": [
    "pca_images = PCA(n_components=10, whiten=False)\n",
    "images_vectors_pca = pca_images.fit_transform(images_vectors)"
   ]
  },
  {
   "cell_type": "markdown",
   "metadata": {
    "colab_type": "text",
    "id": "ZOQv6i4nRK6W"
   },
   "source": [
    "#### Визуальная проверка PCA-преобразования"
   ]
  },
  {
   "cell_type": "code",
   "execution_count": null,
   "metadata": {
    "colab": {
     "base_uri": "https://localhost:8080/",
     "height": 479
    },
    "colab_type": "code",
    "id": "yQj7IjKnRRRO",
    "outputId": "c36eb4bb-fc56-4f9a-82fd-656925d67f83"
   },
   "outputs": [],
   "source": [
    "test = pca_images.inverse_transform(images_vectors_pca[0])\n",
    "test = test.reshape(28,28)\n",
    "test = np.vectorize(crop_pixels)(test)\n",
    "\n",
    "imshow_array(images[0])\n",
    "plt.show()\n",
    "imshow_array(test)\n",
    "plt.show()"
   ]
  },
  {
   "cell_type": "markdown",
   "metadata": {},
   "source": [
    "### Инициализация и обучение модели KDE"
   ]
  },
  {
   "cell_type": "markdown",
   "metadata": {
    "colab_type": "text",
    "id": "pqfyhpnFUVc3"
   },
   "source": [
    "#### Оптимизация ширины"
   ]
  },
  {
   "cell_type": "code",
   "execution_count": null,
   "metadata": {
    "colab": {},
    "colab_type": "code",
    "id": "mPnRlDhKuyrD"
   },
   "outputs": [],
   "source": [
    "#params = {'bandwidth': np.logspace(-1, 0, 20)}\n",
    "#grid = GridSearchCV(KernelDensity(), params)\n",
    "#grid.fit(lowdim_vectors)"
   ]
  },
  {
   "cell_type": "code",
   "execution_count": null,
   "metadata": {
    "colab": {
     "base_uri": "https://localhost:8080/",
     "height": 34
    },
    "colab_type": "code",
    "id": "uESDdY2JuwXE",
    "outputId": "48122842-967d-4074-b734-de2f3a084010"
   },
   "outputs": [],
   "source": [
    "kde_images = KernelDensity(bandwidth=0.25, kernel='gaussian')\n",
    "kde_images.fit(images_vectors_pca)\n",
    "#kde_images = grid.best_estimator_\n",
    "print(kde_images.get_params())"
   ]
  },
  {
   "cell_type": "code",
   "execution_count": null,
   "metadata": {
    "colab": {
     "base_uri": "https://localhost:8080/",
     "height": 941
    },
    "colab_type": "code",
    "id": "bsi0B2UClfEQ",
    "outputId": "73651349-943c-4975-f84c-9eb025ef1ca8"
   },
   "outputs": [],
   "source": [
    "for i in range(4):\n",
    "    test = kde_images.sample()#(random_state=i)\n",
    "    test = pca_images.inverse_transform(test)\n",
    "    test = test.reshape(28,28)\n",
    "    test = np.vectorize(crop_pixels)(test)\n",
    "\n",
    "    imshow_array(test)\n",
    "    plt.show()"
   ]
  },
  {
   "cell_type": "markdown",
   "metadata": {
    "colab_type": "text",
    "id": "PRLjZdsz7NAT"
   },
   "source": [
    "# Автоэнкодер"
   ]
  },
  {
   "cell_type": "code",
   "execution_count": null,
   "metadata": {
    "colab": {},
    "colab_type": "code",
    "id": "VCOoThvUWiy1"
   },
   "outputs": [],
   "source": [
    "(ds_train_images, ds_test_images), ds_info = tfds.load(\n",
    "    'mnist',\n",
    "    split=['train', 'test'],\n",
    "    shuffle_files=True,\n",
    "    as_supervised=True,\n",
    "    with_info=True\n",
    ")"
   ]
  },
  {
   "cell_type": "code",
   "execution_count": null,
   "metadata": {
    "colab": {},
    "colab_type": "code",
    "id": "_sd5MdPWW1l7"
   },
   "outputs": [],
   "source": [
    "ds_train_images = ds_train_images.map(\n",
    "    normalize_img, num_parallel_calls=tf.data.experimental.AUTOTUNE)\n",
    "ds_train_images = ds_train_images.map(\n",
    "    dataset_Y_to_X, num_parallel_calls=tf.data.experimental.AUTOTUNE)\n",
    "ds_train_images = ds_train_images.cache()\n",
    "ds_train_images = ds_train_images.shuffle(ds_info.splits['train'].num_examples)\n",
    "ds_train_images = ds_train_images.batch(128)\n",
    "ds_train_images = ds_train_images.prefetch(tf.data.experimental.AUTOTUNE)"
   ]
  },
  {
   "cell_type": "code",
   "execution_count": null,
   "metadata": {
    "colab": {},
    "colab_type": "code",
    "id": "yzJlMkBCcFwA"
   },
   "outputs": [],
   "source": [
    "ds_test_images = ds_test_images.map(\n",
    "    normalize_img, num_parallel_calls=tf.data.experimental.AUTOTUNE)\n",
    "ds_test_images = ds_test_images.map(\n",
    "    dataset_Y_to_X, num_parallel_calls=tf.data.experimental.AUTOTUNE)\n",
    "ds_test_images = ds_test_images.batch(128)\n",
    "ds_test_images = ds_test_images.cache()\n",
    "ds_test_images = ds_test_images.prefetch(tf.data.experimental.AUTOTUNE)"
   ]
  },
  {
   "cell_type": "code",
   "execution_count": null,
   "metadata": {
    "colab": {},
    "colab_type": "code",
    "id": "NCuecL6r7PUq"
   },
   "outputs": [],
   "source": [
    "def define_autoencoder(shape_input, dimension):\n",
    "    # Инициализация весов.\n",
    "    init = tf.keras.initializers.RandomNormal(stddev = 0.02)\n",
    "\n",
    "    # Входные данные генератора / выборки.\n",
    "    input_layer = tf.keras.layers.Input(shape_input)\n",
    "    next_layer = input_layer\n",
    "\n",
    "    # 1 блок слоёв.\n",
    "    next_layer = tf.keras.layers.GaussianNoise(0.1)(next_layer)\n",
    "    next_layer = tf.keras.layers.Conv2D(filters = 64, kernel_size = (3, 3), strides = (1, 1), padding = 'same', kernel_initializer = init)(next_layer)\n",
    "    next_layer = tf.keras.layers.BatchNormalization()(next_layer)\n",
    "    next_layer = tf.keras.layers.LeakyReLU(alpha=0.2)(next_layer)\n",
    "    #next_layer = tf.keras.layers.Dropout(0.2)(next_layer)\n",
    "    next_layer = tf.keras.layers.MaxPooling2D(pool_size = (2, 2), padding = 'same')(next_layer)\n",
    "\n",
    "    # 2 блок слоёв.\n",
    "    #next_layer = tf.keras.layers.GaussianNoise(0.1)(next_layer)\n",
    "    next_layer = tf.keras.layers.Conv2D(filters = 128, kernel_size = (3, 3), strides = (1, 1), padding = 'same', kernel_initializer = init)(next_layer)\n",
    "    next_layer = tf.keras.layers.BatchNormalization()(next_layer)\n",
    "    next_layer = tf.keras.layers.LeakyReLU(alpha=0.2)(next_layer)\n",
    "    next_layer = tf.keras.layers.Dropout(0.1)(next_layer)\n",
    "    next_layer = tf.keras.layers.MaxPooling2D(pool_size = (2, 2), padding = 'same')(next_layer)\n",
    "\n",
    "    # 3 блок слоёв.\n",
    "    #next_layer = tf.keras.layers.GaussianNoise(0.1)(next_layer)\n",
    "    next_layer = tf.keras.layers.Conv2D(filters = 256, kernel_size = (3, 3), strides = (1, 1), padding = 'same', kernel_initializer = init)(next_layer)\n",
    "    next_layer = tf.keras.layers.BatchNormalization()(next_layer)\n",
    "    next_layer = tf.keras.layers.LeakyReLU(alpha=0.2)(next_layer)\n",
    "    next_layer = tf.keras.layers.Dropout(0.2)(next_layer)\n",
    "    next_layer = tf.keras.layers.MaxPooling2D(pool_size = (2, 2), padding = 'same')(next_layer)\n",
    "\n",
    "    # Бутылочное горлышко.\n",
    "    next_layer = tf.keras.layers.Flatten()(next_layer)\n",
    "    next_layer = tf.keras.layers.Dense(dimension)(next_layer)\n",
    "    bottleneck = tf.keras.layers.Activation('sigmoid')(next_layer)\n",
    "\n",
    "    # Модель кодировщика.\n",
    "    encoder = tf.keras.Model(input_layer, bottleneck)\n",
    "\n",
    "    # Начало модели декодировщика.\n",
    "    input_code_layer = tf.keras.layers.Input((dimension))\n",
    "    next_layer = input_code_layer\n",
    "\n",
    "    # 3 блок слоёв.\n",
    "    #next_layer = tf.keras.layers.GaussianNoise(0.1)(next_layer)\n",
    "    next_layer = tf.keras.layers.Dense(4*4*256)(next_layer)\n",
    "    next_layer = tf.keras.layers.Reshape((4, 4, 256))(next_layer)\n",
    "    next_layer = tf.keras.layers.BatchNormalization()(next_layer)\n",
    "    next_layer = tf.keras.layers.LeakyReLU(alpha=0.2)(next_layer)\n",
    "    next_layer = tf.keras.layers.Dropout(0.2)(next_layer)\n",
    "\n",
    "    # 2 блок слоёв.\n",
    "    #next_layer = tf.keras.layers.GaussianNoise(0.1)(next_layer)\n",
    "    next_layer = tf.keras.layers.UpSampling2D(size=(2, 2))(next_layer)\n",
    "    next_layer = tf.keras.layers.Conv2D(filters = 128, kernel_size = (3, 3), strides = (1, 1), padding = 'same', kernel_initializer = init)(next_layer)\n",
    "    next_layer = tf.keras.layers.Cropping2D(cropping=((0, 1), (0, 1)))(next_layer)\n",
    "    next_layer = tf.keras.layers.BatchNormalization()(next_layer)\n",
    "    next_layer = tf.keras.layers.LeakyReLU(alpha=0.2)(next_layer)\n",
    "    next_layer = tf.keras.layers.Dropout(0.1)(next_layer)\n",
    "\n",
    "    # 1 блок слоёв.\n",
    "    #next_layer = tf.keras.layers.GaussianNoise(0.1)(next_layer)\n",
    "    next_layer = tf.keras.layers.UpSampling2D(size=(2, 2))(next_layer)\n",
    "    next_layer = tf.keras.layers.Conv2D(filters = 64, kernel_size = (3, 3), strides = (1, 1), padding = 'same', kernel_initializer = init)(next_layer)\n",
    "    next_layer = tf.keras.layers.BatchNormalization()(next_layer)\n",
    "    next_layer = tf.keras.layers.LeakyReLU(alpha=0.2)(next_layer)\n",
    "    #next_layer = tf.keras.layers.Dropout(0.1)(next_layer)\n",
    "\n",
    "    # 0 блок слоёв.\n",
    "    #next_layer = tf.keras.layers.GaussianNoise(0.1)(next_layer)\n",
    "    next_layer = tf.keras.layers.UpSampling2D(size=(2, 2))(next_layer)\n",
    "    next_layer = tf.keras.layers.Conv2D(filters = 1, kernel_size = (3, 3), strides = (1, 1), padding = 'same', kernel_initializer = init)(next_layer)\n",
    "    next_layer = tf.keras.layers.BatchNormalization()(next_layer)\n",
    "    next_layer = tf.keras.layers.Activation('sigmoid')(next_layer)\n",
    "    #next_layer = tf.keras.layers.Dropout(0.1)(next_layer)\n",
    "\n",
    "    output_layer = next_layer\n",
    "\n",
    "    # Модель.\n",
    "    decoder = tf.keras.models.Model(input_code_layer, output_layer) # Декодировщик.\n",
    "    autoencoder = tf.keras.Sequential([encoder, decoder])\n",
    "\n",
    "    # Компиляция модели.\n",
    "    opt = tf.keras.optimizers.Adam(lr = 1e-3)\n",
    "    autoencoder.compile(loss = similarity_loss, optimizer = opt, loss_weights = [1.0])\n",
    "    return encoder, decoder, autoencoder"
   ]
  },
  {
   "cell_type": "code",
   "execution_count": null,
   "metadata": {
    "colab": {},
    "colab_type": "code",
    "id": "dylcNG6oOYQ0"
   },
   "outputs": [],
   "source": [
    "codes_dim = 16\n",
    "encoder, decoder, autoencoder = define_autoencoder(mnist_shape, codes_dim)"
   ]
  },
  {
   "cell_type": "code",
   "execution_count": null,
   "metadata": {
    "colab": {
     "base_uri": "https://localhost:8080/",
     "height": 1000
    },
    "colab_type": "code",
    "id": "jClhg4XzPAO-",
    "outputId": "92ed2802-2cac-4f45-dbd7-6a991b24fffe"
   },
   "outputs": [],
   "source": [
    "# Сводка по модели.\n",
    "encoder.summary()\n",
    "# Отрисовка модели.\n",
    "#tf.keras.utils.plot_model(encoder, show_shapes = True, show_layer_names = True)"
   ]
  },
  {
   "cell_type": "code",
   "execution_count": null,
   "metadata": {
    "colab": {
     "base_uri": "https://localhost:8080/",
     "height": 1000
    },
    "colab_type": "code",
    "id": "xWKucXMEObfA",
    "outputId": "b18ba03d-0531-4da9-b1a9-64c143d6155a"
   },
   "outputs": [],
   "source": [
    "# Сводка по модели.\n",
    "decoder.summary()\n",
    "# Отрисовка модели.\n",
    "#tf.keras.utils.plot_model(decoder, show_shapes = True, show_layer_names = True)"
   ]
  },
  {
   "cell_type": "code",
   "execution_count": null,
   "metadata": {},
   "outputs": [],
   "source": [
    "#encoder = tf.keras.models.load_model('encoder.h5')\n",
    "#decoder = tf.keras.models.load_model('decoder.h5')\n",
    "#autoencoder = autoencoder = tf.keras.Sequential([encoder, decoder])"
   ]
  },
  {
   "cell_type": "code",
   "execution_count": null,
   "metadata": {
    "colab": {
     "base_uri": "https://localhost:8080/",
     "height": 590
    },
    "colab_type": "code",
    "id": "BMUWeb51PDhJ",
    "outputId": "de572763-f92b-4318-f1c0-e660802f25a1"
   },
   "outputs": [],
   "source": [
    "autoencoder.fit(\n",
    "    ds_train_images,\n",
    "    epochs=100,\n",
    "    validation_data=ds_test_images,\n",
    ")"
   ]
  },
  {
   "cell_type": "code",
   "execution_count": null,
   "metadata": {},
   "outputs": [],
   "source": [
    "autoencoder.save('./models/autoencoder/autoencoder_' + str(codes_dim) + '.h5')\n",
    "encoder.save('./models/autoencoder/encoder_' + str(codes_dim) + '.h5')\n",
    "decoder.save('./models/autoencoder/decoder_' + str(codes_dim) + '.h5')"
   ]
  },
  {
   "cell_type": "markdown",
   "metadata": {},
   "source": [
    "### Визуальная проверка"
   ]
  },
  {
   "cell_type": "code",
   "execution_count": null,
   "metadata": {
    "colab": {
     "base_uri": "https://localhost:8080/",
     "height": 847
    },
    "colab_type": "code",
    "id": "dB8Q7mbTPVcg",
    "outputId": "d71ea372-eb72-4d16-ecb4-120a3e02c988"
   },
   "outputs": [],
   "source": [
    "mnist_example = ds_full.take(50)\n",
    "for sample in mnist_example:\n",
    "    image, label = sample[0].numpy(), sample[1].numpy()\n",
    "\n",
    "    plt.subplot(1, 2, 1)\n",
    "    imshow_array(image[:, :, 0])\n",
    "\n",
    "    # Предсказание.\n",
    "    plt.subplot(1, 2, 2)\n",
    "    imshow_array(autoencoder.predict(np.array([image]))[0][:, :, 0])\n",
    "    plt.show()"
   ]
  },
  {
   "cell_type": "markdown",
   "metadata": {},
   "source": [
    "### Получение кодов всех изображений датасета"
   ]
  },
  {
   "cell_type": "code",
   "execution_count": null,
   "metadata": {
    "colab": {},
    "colab_type": "code",
    "id": "0qXjr2vokLKF"
   },
   "outputs": [],
   "source": [
    "samples = list(ds_full.take(-1))\n",
    "images = np.array([sample[0].numpy().reshape(28,28,1) for sample in samples])\n",
    "codes = np.array(encoder.predict(images))"
   ]
  },
  {
   "cell_type": "code",
   "execution_count": null,
   "metadata": {
    "colab": {},
    "colab_type": "code",
    "id": "6ZCDvzAkkteX"
   },
   "outputs": [],
   "source": [
    "pca_codes_dim = codes_dim\n",
    "pca_codes = PCA(n_components=pca_codes_dim, whiten=True)\n",
    "codes_pca = np.array(pca_codes.fit_transform(codes))"
   ]
  },
  {
   "cell_type": "code",
   "execution_count": null,
   "metadata": {},
   "outputs": [],
   "source": [
    "# Проверка центрирования.\n",
    "codes_mean = sum(codes) / len(codes)\n",
    "codes_pca_mean = sum(codes_pca) / len(codes_pca)\n",
    "print(codes_mean)\n",
    "print(codes_pca_mean)"
   ]
  },
  {
   "cell_type": "code",
   "execution_count": null,
   "metadata": {},
   "outputs": [],
   "source": [
    "# Проверка вторых моментов.\n",
    "def standard_deviation(samples, mean, dimension):\n",
    "    stdev = np.array([0.0 for i in range(dimension)])\n",
    "    \n",
    "    for sample in samples:\n",
    "        for i in range(0, dimension):\n",
    "            stdev[i] += (sample[i] - mean[i])**2\n",
    "            \n",
    "    stdev /= (len(samples) - 1)\n",
    "    stdev = np.sqrt(stdev)\n",
    "    return(stdev)\n",
    "\n",
    "codes_stdev = standard_deviation(codes, codes_mean, codes_dim)\n",
    "codes_pca_stdev = standard_deviation(codes_pca, codes_pca_mean, pca_codes_dim)\n",
    "print(codes_stdev)\n",
    "print(codes_pca_stdev)"
   ]
  },
  {
   "cell_type": "markdown",
   "metadata": {},
   "source": [
    "### KDE для кодов"
   ]
  },
  {
   "cell_type": "code",
   "execution_count": null,
   "metadata": {
    "colab": {},
    "colab_type": "code",
    "id": "mPnRlDhKuyrD"
   },
   "outputs": [],
   "source": [
    "params = {'bandwidth': np.logspace(np.log10(0.3), np.log10(0.7), 6)}\n",
    "grid = GridSearchCV(KernelDensity(rtol = 0.01), params, n_jobs=8, verbose=10, cv=5)\n",
    "grid.fit(codes_pca)"
   ]
  },
  {
   "cell_type": "code",
   "execution_count": null,
   "metadata": {
    "colab": {
     "base_uri": "https://localhost:8080/",
     "height": 34
    },
    "colab_type": "code",
    "id": "uESDdY2JuwXE",
    "outputId": "48122842-967d-4074-b734-de2f3a084010"
   },
   "outputs": [],
   "source": [
    "#kde_codes = KernelDensity(bandwidth=0.46, kernel='gaussian')\n",
    "#kde_codes.fit(codes_pca)\n",
    "kde_codes = grid.best_estimator_\n",
    "kde_codes.set_params(rtol = 0.0)\n",
    "print(kde_codes.get_params())"
   ]
  },
  {
   "cell_type": "code",
   "execution_count": null,
   "metadata": {
    "colab": {
     "base_uri": "https://localhost:8080/",
     "height": 941
    },
    "colab_type": "code",
    "id": "bsi0B2UClfEQ",
    "outputId": "73651349-943c-4975-f84c-9eb025ef1ca8"
   },
   "outputs": [],
   "source": [
    "for i in range(40):\n",
    "    test = kde_codes.sample()#(random_state=i)\n",
    "    test = pca_codes.inverse_transform(test)\n",
    "    \n",
    "    imshow_array(decoder.predict(test)[0][:, :, 0])\n",
    "    plt.show()"
   ]
  },
  {
   "cell_type": "markdown",
   "metadata": {},
   "source": [
    "## Подсчёт энтропии"
   ]
  },
  {
   "cell_type": "code",
   "execution_count": null,
   "metadata": {},
   "outputs": [],
   "source": [
    "def entropy_monte_carlo(kde, N, random_state = 42):\n",
    "    samples  = kde.sample(N, random_state)\n",
    "    log_prob = np.array(kde.score_samples(samples))\n",
    "    \n",
    "    average = -sum(log_prob) / N\n",
    "    standard_deviation = 0.0\n",
    "    for i in range(N):\n",
    "        standard_deviation += (log_prob[i] - average)**2\n",
    "        \n",
    "    standard_deviation = np.sqrt(standard_deviation / (N * (N - 1)))\n",
    "        \n",
    "    return average, standard_deviation"
   ]
  },
  {
   "cell_type": "code",
   "execution_count": null,
   "metadata": {},
   "outputs": [],
   "source": [
    "entropy, entropy_error = entropy_monte_carlo(kde_codes, 10000)\n",
    "entropy_error *= 3.3 # Коэффициент Стьюдента.\n",
    "print(\"H: %f, errH: %f\" % (entropy, entropy_error))"
   ]
  },
  {
   "cell_type": "code",
   "execution_count": null,
   "metadata": {},
   "outputs": [],
   "source": [
    "def entropy_leave_one_out(kde, samples, random_state = 42):\n",
    "    N = len(samples)\n",
    "    log_prob = np.array([0.0 for i in range(N)])\n",
    "    for i in range(N):\n",
    "        lvo_samples = samples\n",
    "        np.delete(lvo_samples, i)\n",
    "        kde.fit(lvo_samples)\n",
    "        \n",
    "        log_prob[i] = kde.score_samples([samples[i]])[0]\n",
    "        print(\"i: %d / %d\" % (i+1, N), end=\"\\r\")\n",
    "    \n",
    "    average = -sum(log_prob) / N\n",
    "    standard_deviation = 0.0\n",
    "    for i in range(N):\n",
    "        print(\"i: %d / %d\" % (i+1, N), end=\"\\r\")\n",
    "        standard_deviation += (log_prob[i] - average)**2\n",
    "        \n",
    "    standard_deviation = np.sqrt(standard_deviation / (N * (N - 1)))\n",
    "        \n",
    "    return average, standard_deviation"
   ]
  },
  {
   "cell_type": "code",
   "execution_count": null,
   "metadata": {},
   "outputs": [],
   "source": [
    "entropy, entropy_error = entropy_leave_one_out(copy.copy(kde_codes), codes_pca)\n",
    "entropy_error *= 3.3 # Коэффициент Стьюдента.\n",
    "print(\"H: %f, errH: %f\" % (entropy, entropy_error))"
   ]
  },
  {
   "cell_type": "code",
   "execution_count": null,
   "metadata": {},
   "outputs": [],
   "source": [
    "def _lvo_step(bandwidth, samples, i):\n",
    "    lvo_samples = samples\n",
    "    np.delete(lvo_samples, i)\n",
    "    \n",
    "    kde = KernelDensity(bandwidth=bandwidth, kernel='gaussian')\n",
    "    kde.fit(lvo_samples)\n",
    "    return kde.score_samples([samples[i]])[0]"
   ]
  },
  {
   "cell_type": "code",
   "execution_count": null,
   "metadata": {},
   "outputs": [],
   "source": [
    "def entropy_leave_one_out_parallel(bandwidth, samples, random_state = 42):\n",
    "    N = len(samples)\n",
    "    log_prob = np.array(Parallel(n_jobs=8, verbose=10, batch_size=2)(delayed(_lvo_step)(bandwidth, samples, i) for i in range(N)))\n",
    "    \n",
    "    average = -sum(log_prob) / N\n",
    "    standard_deviation = 0.0\n",
    "    for i in range(N):\n",
    "        #print(\"i: %d / %d\" % (i+1, N), end=\"\\r\")\n",
    "        standard_deviation += (log_prob[i] - average)**2\n",
    "        \n",
    "    standard_deviation = np.sqrt(standard_deviation / (N * (N - 1)))\n",
    "        \n",
    "    return average, standard_deviation"
   ]
  },
  {
   "cell_type": "code",
   "execution_count": null,
   "metadata": {},
   "outputs": [],
   "source": [
    "entropy, entropy_error = entropy_leave_one_out_parallel(kde_codes.get_params()['bandwidth'], codes_pca)\n",
    "entropy_error *= 3.3 # Коэффициент Стьюдента.\n",
    "print(\"H: %f, errH: %f\" % (entropy, entropy_error))"
   ]
  },
  {
   "cell_type": "code",
   "execution_count": null,
   "metadata": {},
   "outputs": [],
   "source": [
    "def entropy_multivariate_normal(dimension, stdev):\n",
    "    return 0.5 * dimension * (1 + np.log(2 * np.pi) + 2*np.log(stdev))"
   ]
  },
  {
   "cell_type": "code",
   "execution_count": null,
   "metadata": {},
   "outputs": [],
   "source": [
    "entropy_multivariate_normal(pca_codes_dim, kde_codes.get_params()['bandwidth'])"
   ]
  }
 ],
 "metadata": {
  "accelerator": "TPU",
  "colab": {
   "collapsed_sections": [],
   "name": "MNIST.ipynb",
   "provenance": []
  },
  "kernelspec": {
   "display_name": "Python 3",
   "language": "python",
   "name": "python3"
  },
  "language_info": {
   "codemirror_mode": {
    "name": "ipython",
    "version": 3
   },
   "file_extension": ".py",
   "mimetype": "text/x-python",
   "name": "python",
   "nbconvert_exporter": "python",
   "pygments_lexer": "ipython3",
   "version": "3.6.9"
  },
  "widgets": {
   "application/vnd.jupyter.widget-state+json": {
    "149f532209d34329ae1c77c4f6b68760": {
     "model_module": "@jupyter-widgets/controls",
     "model_name": "VBoxModel",
     "state": {
      "_dom_classes": [
       "widget-interact"
      ],
      "_model_module": "@jupyter-widgets/controls",
      "_model_module_version": "1.5.0",
      "_model_name": "VBoxModel",
      "_view_count": null,
      "_view_module": "@jupyter-widgets/controls",
      "_view_module_version": "1.5.0",
      "_view_name": "VBoxView",
      "box_style": "",
      "children": [
       "IPY_MODEL_ff0b7b16524a44638108d9f56457cefd",
       "IPY_MODEL_30b020fccb0b49589c91d0307a781058",
       "IPY_MODEL_acdbb4614ca4435caa87feb22f468851",
       "IPY_MODEL_1fa732297801485b9abd9b6167a597b0",
       "IPY_MODEL_a16cfc70478c4d4d8e8a3dbd2d7483b1",
       "IPY_MODEL_82dc7be859bb4f28a8c7d46435e7855d",
       "IPY_MODEL_3cf62971426e468c8f5a34656096e880"
      ],
      "layout": "IPY_MODEL_726dad3de6ac45c3a26094fa0d012253"
     }
    },
    "15dbc373c4ae48c3baf5949f02323351": {
     "model_module": "@jupyter-widgets/controls",
     "model_name": "SliderStyleModel",
     "state": {
      "_model_module": "@jupyter-widgets/controls",
      "_model_module_version": "1.5.0",
      "_model_name": "SliderStyleModel",
      "_view_count": null,
      "_view_module": "@jupyter-widgets/base",
      "_view_module_version": "1.2.0",
      "_view_name": "StyleView",
      "description_width": "",
      "handle_color": null
     }
    },
    "1fa732297801485b9abd9b6167a597b0": {
     "model_module": "@jupyter-widgets/controls",
     "model_name": "FloatSliderModel",
     "state": {
      "_dom_classes": [],
      "_model_module": "@jupyter-widgets/controls",
      "_model_module_version": "1.5.0",
      "_model_name": "FloatSliderModel",
      "_view_count": null,
      "_view_module": "@jupyter-widgets/controls",
      "_view_module_version": "1.5.0",
      "_view_name": "FloatSliderView",
      "continuous_update": true,
      "description": "x4",
      "description_tooltip": null,
      "disabled": false,
      "layout": "IPY_MODEL_3afd894c69c549a4a10cb1e5dc73a648",
      "max": 1,
      "min": -1,
      "orientation": "horizontal",
      "readout": true,
      "readout_format": ".2f",
      "step": 0.01,
      "style": "IPY_MODEL_c0c6be9d255443cbb4d46c0d39bb5f00",
      "value": -0.34
     }
    },
    "30b020fccb0b49589c91d0307a781058": {
     "model_module": "@jupyter-widgets/controls",
     "model_name": "FloatSliderModel",
     "state": {
      "_dom_classes": [],
      "_model_module": "@jupyter-widgets/controls",
      "_model_module_version": "1.5.0",
      "_model_name": "FloatSliderModel",
      "_view_count": null,
      "_view_module": "@jupyter-widgets/controls",
      "_view_module_version": "1.5.0",
      "_view_name": "FloatSliderView",
      "continuous_update": true,
      "description": "x2",
      "description_tooltip": null,
      "disabled": false,
      "layout": "IPY_MODEL_7c18e9f5bdee471786c74406e2ee13ef",
      "max": 1,
      "min": -1,
      "orientation": "horizontal",
      "readout": true,
      "readout_format": ".2f",
      "step": 0.01,
      "style": "IPY_MODEL_9150744e925d46368e2b39112fee6a88",
      "value": 0.5
     }
    },
    "34563238d9a34a06a18f70fa214b3dfd": {
     "model_module": "@jupyter-widgets/base",
     "model_name": "LayoutModel",
     "state": {
      "_model_module": "@jupyter-widgets/base",
      "_model_module_version": "1.2.0",
      "_model_name": "LayoutModel",
      "_view_count": null,
      "_view_module": "@jupyter-widgets/base",
      "_view_module_version": "1.2.0",
      "_view_name": "LayoutView",
      "align_content": null,
      "align_items": null,
      "align_self": null,
      "border": null,
      "bottom": null,
      "display": null,
      "flex": null,
      "flex_flow": null,
      "grid_area": null,
      "grid_auto_columns": null,
      "grid_auto_flow": null,
      "grid_auto_rows": null,
      "grid_column": null,
      "grid_gap": null,
      "grid_row": null,
      "grid_template_areas": null,
      "grid_template_columns": null,
      "grid_template_rows": null,
      "height": null,
      "justify_content": null,
      "justify_items": null,
      "left": null,
      "margin": null,
      "max_height": null,
      "max_width": null,
      "min_height": null,
      "min_width": null,
      "object_fit": null,
      "object_position": null,
      "order": null,
      "overflow": null,
      "overflow_x": null,
      "overflow_y": null,
      "padding": null,
      "right": null,
      "top": null,
      "visibility": null,
      "width": null
     }
    },
    "3afd894c69c549a4a10cb1e5dc73a648": {
     "model_module": "@jupyter-widgets/base",
     "model_name": "LayoutModel",
     "state": {
      "_model_module": "@jupyter-widgets/base",
      "_model_module_version": "1.2.0",
      "_model_name": "LayoutModel",
      "_view_count": null,
      "_view_module": "@jupyter-widgets/base",
      "_view_module_version": "1.2.0",
      "_view_name": "LayoutView",
      "align_content": null,
      "align_items": null,
      "align_self": null,
      "border": null,
      "bottom": null,
      "display": null,
      "flex": null,
      "flex_flow": null,
      "grid_area": null,
      "grid_auto_columns": null,
      "grid_auto_flow": null,
      "grid_auto_rows": null,
      "grid_column": null,
      "grid_gap": null,
      "grid_row": null,
      "grid_template_areas": null,
      "grid_template_columns": null,
      "grid_template_rows": null,
      "height": null,
      "justify_content": null,
      "justify_items": null,
      "left": null,
      "margin": null,
      "max_height": null,
      "max_width": null,
      "min_height": null,
      "min_width": null,
      "object_fit": null,
      "object_position": null,
      "order": null,
      "overflow": null,
      "overflow_x": null,
      "overflow_y": null,
      "padding": null,
      "right": null,
      "top": null,
      "visibility": null,
      "width": null
     }
    },
    "3cf62971426e468c8f5a34656096e880": {
     "model_module": "@jupyter-widgets/output",
     "model_name": "OutputModel",
     "state": {
      "_dom_classes": [],
      "_model_module": "@jupyter-widgets/output",
      "_model_module_version": "1.0.0",
      "_model_name": "OutputModel",
      "_view_count": null,
      "_view_module": "@jupyter-widgets/output",
      "_view_module_version": "1.0.0",
      "_view_name": "OutputView",
      "layout": "IPY_MODEL_34563238d9a34a06a18f70fa214b3dfd",
      "msg_id": "",
      "outputs": [
       {
        "image/png": "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\n",
        "metadata": {
         "needs_background": "light",
         "tags": []
        },
        "output_type": "display_data",
        "text/plain": "<Figure size 432x288 with 1 Axes>"
       }
      ]
     }
    },
    "4548d7ddc0f64f6cb2e1103601f58fc2": {
     "model_module": "@jupyter-widgets/controls",
     "model_name": "SliderStyleModel",
     "state": {
      "_model_module": "@jupyter-widgets/controls",
      "_model_module_version": "1.5.0",
      "_model_name": "SliderStyleModel",
      "_view_count": null,
      "_view_module": "@jupyter-widgets/base",
      "_view_module_version": "1.2.0",
      "_view_name": "StyleView",
      "description_width": "",
      "handle_color": null
     }
    },
    "47c7c4b0c81a4cc4b78e76ae7ca0ad27": {
     "model_module": "@jupyter-widgets/controls",
     "model_name": "SliderStyleModel",
     "state": {
      "_model_module": "@jupyter-widgets/controls",
      "_model_module_version": "1.5.0",
      "_model_name": "SliderStyleModel",
      "_view_count": null,
      "_view_module": "@jupyter-widgets/base",
      "_view_module_version": "1.2.0",
      "_view_name": "StyleView",
      "description_width": "",
      "handle_color": null
     }
    },
    "5e2bb563827a4c3aba17eef4db604773": {
     "model_module": "@jupyter-widgets/base",
     "model_name": "LayoutModel",
     "state": {
      "_model_module": "@jupyter-widgets/base",
      "_model_module_version": "1.2.0",
      "_model_name": "LayoutModel",
      "_view_count": null,
      "_view_module": "@jupyter-widgets/base",
      "_view_module_version": "1.2.0",
      "_view_name": "LayoutView",
      "align_content": null,
      "align_items": null,
      "align_self": null,
      "border": null,
      "bottom": null,
      "display": null,
      "flex": null,
      "flex_flow": null,
      "grid_area": null,
      "grid_auto_columns": null,
      "grid_auto_flow": null,
      "grid_auto_rows": null,
      "grid_column": null,
      "grid_gap": null,
      "grid_row": null,
      "grid_template_areas": null,
      "grid_template_columns": null,
      "grid_template_rows": null,
      "height": null,
      "justify_content": null,
      "justify_items": null,
      "left": null,
      "margin": null,
      "max_height": null,
      "max_width": null,
      "min_height": null,
      "min_width": null,
      "object_fit": null,
      "object_position": null,
      "order": null,
      "overflow": null,
      "overflow_x": null,
      "overflow_y": null,
      "padding": null,
      "right": null,
      "top": null,
      "visibility": null,
      "width": null
     }
    },
    "6b1dc663fef3412ea45d5ac1b40262e3": {
     "model_module": "@jupyter-widgets/base",
     "model_name": "LayoutModel",
     "state": {
      "_model_module": "@jupyter-widgets/base",
      "_model_module_version": "1.2.0",
      "_model_name": "LayoutModel",
      "_view_count": null,
      "_view_module": "@jupyter-widgets/base",
      "_view_module_version": "1.2.0",
      "_view_name": "LayoutView",
      "align_content": null,
      "align_items": null,
      "align_self": null,
      "border": null,
      "bottom": null,
      "display": null,
      "flex": null,
      "flex_flow": null,
      "grid_area": null,
      "grid_auto_columns": null,
      "grid_auto_flow": null,
      "grid_auto_rows": null,
      "grid_column": null,
      "grid_gap": null,
      "grid_row": null,
      "grid_template_areas": null,
      "grid_template_columns": null,
      "grid_template_rows": null,
      "height": null,
      "justify_content": null,
      "justify_items": null,
      "left": null,
      "margin": null,
      "max_height": null,
      "max_width": null,
      "min_height": null,
      "min_width": null,
      "object_fit": null,
      "object_position": null,
      "order": null,
      "overflow": null,
      "overflow_x": null,
      "overflow_y": null,
      "padding": null,
      "right": null,
      "top": null,
      "visibility": null,
      "width": null
     }
    },
    "726dad3de6ac45c3a26094fa0d012253": {
     "model_module": "@jupyter-widgets/base",
     "model_name": "LayoutModel",
     "state": {
      "_model_module": "@jupyter-widgets/base",
      "_model_module_version": "1.2.0",
      "_model_name": "LayoutModel",
      "_view_count": null,
      "_view_module": "@jupyter-widgets/base",
      "_view_module_version": "1.2.0",
      "_view_name": "LayoutView",
      "align_content": null,
      "align_items": null,
      "align_self": null,
      "border": null,
      "bottom": null,
      "display": null,
      "flex": null,
      "flex_flow": null,
      "grid_area": null,
      "grid_auto_columns": null,
      "grid_auto_flow": null,
      "grid_auto_rows": null,
      "grid_column": null,
      "grid_gap": null,
      "grid_row": null,
      "grid_template_areas": null,
      "grid_template_columns": null,
      "grid_template_rows": null,
      "height": null,
      "justify_content": null,
      "justify_items": null,
      "left": null,
      "margin": null,
      "max_height": null,
      "max_width": null,
      "min_height": null,
      "min_width": null,
      "object_fit": null,
      "object_position": null,
      "order": null,
      "overflow": null,
      "overflow_x": null,
      "overflow_y": null,
      "padding": null,
      "right": null,
      "top": null,
      "visibility": null,
      "width": null
     }
    },
    "7c18e9f5bdee471786c74406e2ee13ef": {
     "model_module": "@jupyter-widgets/base",
     "model_name": "LayoutModel",
     "state": {
      "_model_module": "@jupyter-widgets/base",
      "_model_module_version": "1.2.0",
      "_model_name": "LayoutModel",
      "_view_count": null,
      "_view_module": "@jupyter-widgets/base",
      "_view_module_version": "1.2.0",
      "_view_name": "LayoutView",
      "align_content": null,
      "align_items": null,
      "align_self": null,
      "border": null,
      "bottom": null,
      "display": null,
      "flex": null,
      "flex_flow": null,
      "grid_area": null,
      "grid_auto_columns": null,
      "grid_auto_flow": null,
      "grid_auto_rows": null,
      "grid_column": null,
      "grid_gap": null,
      "grid_row": null,
      "grid_template_areas": null,
      "grid_template_columns": null,
      "grid_template_rows": null,
      "height": null,
      "justify_content": null,
      "justify_items": null,
      "left": null,
      "margin": null,
      "max_height": null,
      "max_width": null,
      "min_height": null,
      "min_width": null,
      "object_fit": null,
      "object_position": null,
      "order": null,
      "overflow": null,
      "overflow_x": null,
      "overflow_y": null,
      "padding": null,
      "right": null,
      "top": null,
      "visibility": null,
      "width": null
     }
    },
    "82dc7be859bb4f28a8c7d46435e7855d": {
     "model_module": "@jupyter-widgets/controls",
     "model_name": "FloatSliderModel",
     "state": {
      "_dom_classes": [],
      "_model_module": "@jupyter-widgets/controls",
      "_model_module_version": "1.5.0",
      "_model_name": "FloatSliderModel",
      "_view_count": null,
      "_view_module": "@jupyter-widgets/controls",
      "_view_module_version": "1.5.0",
      "_view_name": "FloatSliderView",
      "continuous_update": true,
      "description": "x6",
      "description_tooltip": null,
      "disabled": false,
      "layout": "IPY_MODEL_5e2bb563827a4c3aba17eef4db604773",
      "max": 1,
      "min": -1,
      "orientation": "horizontal",
      "readout": true,
      "readout_format": ".2f",
      "step": 0.01,
      "style": "IPY_MODEL_e41488f43214439cbcf967654e3c8710",
      "value": 0.04
     }
    },
    "9150744e925d46368e2b39112fee6a88": {
     "model_module": "@jupyter-widgets/controls",
     "model_name": "SliderStyleModel",
     "state": {
      "_model_module": "@jupyter-widgets/controls",
      "_model_module_version": "1.5.0",
      "_model_name": "SliderStyleModel",
      "_view_count": null,
      "_view_module": "@jupyter-widgets/base",
      "_view_module_version": "1.2.0",
      "_view_name": "StyleView",
      "description_width": "",
      "handle_color": null
     }
    },
    "940dec7fd0e24156a24d7a6d697e40b7": {
     "model_module": "@jupyter-widgets/base",
     "model_name": "LayoutModel",
     "state": {
      "_model_module": "@jupyter-widgets/base",
      "_model_module_version": "1.2.0",
      "_model_name": "LayoutModel",
      "_view_count": null,
      "_view_module": "@jupyter-widgets/base",
      "_view_module_version": "1.2.0",
      "_view_name": "LayoutView",
      "align_content": null,
      "align_items": null,
      "align_self": null,
      "border": null,
      "bottom": null,
      "display": null,
      "flex": null,
      "flex_flow": null,
      "grid_area": null,
      "grid_auto_columns": null,
      "grid_auto_flow": null,
      "grid_auto_rows": null,
      "grid_column": null,
      "grid_gap": null,
      "grid_row": null,
      "grid_template_areas": null,
      "grid_template_columns": null,
      "grid_template_rows": null,
      "height": null,
      "justify_content": null,
      "justify_items": null,
      "left": null,
      "margin": null,
      "max_height": null,
      "max_width": null,
      "min_height": null,
      "min_width": null,
      "object_fit": null,
      "object_position": null,
      "order": null,
      "overflow": null,
      "overflow_x": null,
      "overflow_y": null,
      "padding": null,
      "right": null,
      "top": null,
      "visibility": null,
      "width": null
     }
    },
    "a16cfc70478c4d4d8e8a3dbd2d7483b1": {
     "model_module": "@jupyter-widgets/controls",
     "model_name": "FloatSliderModel",
     "state": {
      "_dom_classes": [],
      "_model_module": "@jupyter-widgets/controls",
      "_model_module_version": "1.5.0",
      "_model_name": "FloatSliderModel",
      "_view_count": null,
      "_view_module": "@jupyter-widgets/controls",
      "_view_module_version": "1.5.0",
      "_view_name": "FloatSliderView",
      "continuous_update": true,
      "description": "x5",
      "description_tooltip": null,
      "disabled": false,
      "layout": "IPY_MODEL_ac62700fb9264c81b2461dc8a6272277",
      "max": 1,
      "min": -1,
      "orientation": "horizontal",
      "readout": true,
      "readout_format": ".2f",
      "step": 0.01,
      "style": "IPY_MODEL_4548d7ddc0f64f6cb2e1103601f58fc2",
      "value": 0.11
     }
    },
    "ac62700fb9264c81b2461dc8a6272277": {
     "model_module": "@jupyter-widgets/base",
     "model_name": "LayoutModel",
     "state": {
      "_model_module": "@jupyter-widgets/base",
      "_model_module_version": "1.2.0",
      "_model_name": "LayoutModel",
      "_view_count": null,
      "_view_module": "@jupyter-widgets/base",
      "_view_module_version": "1.2.0",
      "_view_name": "LayoutView",
      "align_content": null,
      "align_items": null,
      "align_self": null,
      "border": null,
      "bottom": null,
      "display": null,
      "flex": null,
      "flex_flow": null,
      "grid_area": null,
      "grid_auto_columns": null,
      "grid_auto_flow": null,
      "grid_auto_rows": null,
      "grid_column": null,
      "grid_gap": null,
      "grid_row": null,
      "grid_template_areas": null,
      "grid_template_columns": null,
      "grid_template_rows": null,
      "height": null,
      "justify_content": null,
      "justify_items": null,
      "left": null,
      "margin": null,
      "max_height": null,
      "max_width": null,
      "min_height": null,
      "min_width": null,
      "object_fit": null,
      "object_position": null,
      "order": null,
      "overflow": null,
      "overflow_x": null,
      "overflow_y": null,
      "padding": null,
      "right": null,
      "top": null,
      "visibility": null,
      "width": null
     }
    },
    "acdbb4614ca4435caa87feb22f468851": {
     "model_module": "@jupyter-widgets/controls",
     "model_name": "FloatSliderModel",
     "state": {
      "_dom_classes": [],
      "_model_module": "@jupyter-widgets/controls",
      "_model_module_version": "1.5.0",
      "_model_name": "FloatSliderModel",
      "_view_count": null,
      "_view_module": "@jupyter-widgets/controls",
      "_view_module_version": "1.5.0",
      "_view_name": "FloatSliderView",
      "continuous_update": true,
      "description": "x3",
      "description_tooltip": null,
      "disabled": false,
      "layout": "IPY_MODEL_6b1dc663fef3412ea45d5ac1b40262e3",
      "max": 1,
      "min": -1,
      "orientation": "horizontal",
      "readout": true,
      "readout_format": ".2f",
      "step": 0.01,
      "style": "IPY_MODEL_15dbc373c4ae48c3baf5949f02323351",
      "value": 0.19
     }
    },
    "c0c6be9d255443cbb4d46c0d39bb5f00": {
     "model_module": "@jupyter-widgets/controls",
     "model_name": "SliderStyleModel",
     "state": {
      "_model_module": "@jupyter-widgets/controls",
      "_model_module_version": "1.5.0",
      "_model_name": "SliderStyleModel",
      "_view_count": null,
      "_view_module": "@jupyter-widgets/base",
      "_view_module_version": "1.2.0",
      "_view_name": "StyleView",
      "description_width": "",
      "handle_color": null
     }
    },
    "e41488f43214439cbcf967654e3c8710": {
     "model_module": "@jupyter-widgets/controls",
     "model_name": "SliderStyleModel",
     "state": {
      "_model_module": "@jupyter-widgets/controls",
      "_model_module_version": "1.5.0",
      "_model_name": "SliderStyleModel",
      "_view_count": null,
      "_view_module": "@jupyter-widgets/base",
      "_view_module_version": "1.2.0",
      "_view_name": "StyleView",
      "description_width": "",
      "handle_color": null
     }
    },
    "ff0b7b16524a44638108d9f56457cefd": {
     "model_module": "@jupyter-widgets/controls",
     "model_name": "FloatSliderModel",
     "state": {
      "_dom_classes": [],
      "_model_module": "@jupyter-widgets/controls",
      "_model_module_version": "1.5.0",
      "_model_name": "FloatSliderModel",
      "_view_count": null,
      "_view_module": "@jupyter-widgets/controls",
      "_view_module_version": "1.5.0",
      "_view_name": "FloatSliderView",
      "continuous_update": true,
      "description": "x1",
      "description_tooltip": null,
      "disabled": false,
      "layout": "IPY_MODEL_940dec7fd0e24156a24d7a6d697e40b7",
      "max": 1,
      "min": -1,
      "orientation": "horizontal",
      "readout": true,
      "readout_format": ".2f",
      "step": 0.01,
      "style": "IPY_MODEL_47c7c4b0c81a4cc4b78e76ae7ca0ad27",
      "value": 0.47
     }
    }
   }
  }
 },
 "nbformat": 4,
 "nbformat_minor": 1
}
